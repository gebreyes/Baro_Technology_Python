{
 "cells": [
  {
   "cell_type": "markdown",
   "id": "ec6b3662",
   "metadata": {},
   "source": [
    "#### <center>`Branching and Loops`</center>\n",
    "\n",
    "![](https://i.imgur.com/7RfcHV0.png)"
   ]
  },
  {
   "cell_type": "markdown",
   "id": "8e3d99db",
   "metadata": {},
   "source": [
    "### <center><font color = \"pink\" face = \"Elephant\" > Outlines</font></center>\n",
    "\n",
    "* <font color = \"pink\" face = \"Elephant\">Branching with if, else and elif</font>\n",
    "* <font color = \"pink\" face = \"Elephant\">Nested conditions and if expressions</font>\n",
    "* <font color = \"pink\" face = \"Elephant\">Iteration with while loops</font>\n",
    "* <font color = \"pink\" face = \"Elephant\">Iterating over containers with for loops</font>\n",
    "* <font color = \"pink\" face = \"Elephant\">Nested loops, break and continue statements</font>"
   ]
  },
  {
   "cell_type": "markdown",
   "id": "a93067fc",
   "metadata": {},
   "source": [
    "## Branching with `if`, `else` and `elif`\n",
    "\n",
    "One of the most powerful features of programming languages is *branching*: the ability to make decisions and execute a different set of statements based on whether one or more conditions are true.\n",
    "\n",
    "### The `if` statement\n",
    "\n",
    "In Python, branching is implemented using the `if` statement, which is written as follows:\n",
    "<center>\n",
    "<font face = \"Elephant\">\n",
    "\n",
    "```\n",
    "if condition:\n",
    "    statement1\n",
    "    statement2\n",
    "\n",
    "```\n",
    "\n",
    "</font>\n",
    "</center>\n",
    "The `condition` can be a value, variable or expression. If the condition evaluates to `True`, then the statements within the *`if` block* are executed. Notice the four spaces before `statement1`, `statement2`, etc. The spaces inform Python that these statements are associated with the `if` statement above. This technique of structuring code by adding spaces is called *indentation*.\n",
    "\n",
    "> **Indentation**: Python relies heavily on *indentation* (white space before a statement) to define code structure. This makes Python code easy to read and understand. You can run into problems if you don't use indentation properly. Indent your code by placing the cursor at the start of the line and pressing the `Tab` key once to add 4 spaces. Pressing `Tab` again will indent the code further by 4 more spaces, and press `Shift+Tab` will reduce the indentation by 4 spaces. \n",
    "\n",
    "\n",
    "><font face = \"Times New Roman\" color = \"blue black\"> For example, let's write some code to check and print a message if a given number is even.\n",
    "</font>\n"
   ]
  },
  {
   "cell_type": "markdown",
   "id": "f909a7cc",
   "metadata": {},
   "source": [
    "### Statements and Expressions\n",
    "\n",
    "The conditional expression highlights an essential distinction between `*statements*` and `*expressions*` in Python. \n",
    "\n",
    "> <font face = \"cambria\">\n",
    "**Statements**: A statement is an instruction that can be executed. Every line of code we have written so far is a statement e.g. assigning a variable, calling a function, conditional statements using `if`, `else`, and `elif`, loops using `for` and `while` etc.\n",
    "\n",
    "> **Expressions**: An expression is some code that evaluates to a value. Examples include values of different data types, arithmetic expressions, conditions, variables, function calls, conditional expressions, etc. \n",
    "\n",
    "\n",
    "Most expressions can be executed as statements, but not all statements are expressions. For example, the regular `if` statement is not an expression since it does not evaluate to a value. It merely performs some branching in the code. Similarly, loops and function definitions are not expressions \n",
    "\n",
    "As a rule of thumb, an expression is anything that can appear on the right side of the assignment operator `=`. You can use this as a test for checking whether something is an expression or not. You'll get a syntax error if you try to assign something that is not an expression."
   ]
  },
  {
   "cell_type": "code",
   "execution_count": null,
   "id": "19d90057",
   "metadata": {},
   "outputs": [],
   "source": [
    "a_number = 10\n",
    "if a_number % 2 == 0:\n",
    "    print(\"We're inside an if block\")\n",
    "    print('The given number {} is even.'.format(a_number))"
   ]
  },
  {
   "cell_type": "markdown",
   "id": "e9261a1f",
   "metadata": {},
   "source": [
    "We use the modulus operator `%` to calculate the remainder from the division of `a_number` by `2`. Then, we use the comparison operator `==` check if the remainder is `0`, which tells us whether the number is even, i.e., divisible by 2.\n",
    "\n",
    "Since `10` is divisible by `2`, the expression `a_number % 2 == 0` evaluates to `True`, so the `print` statement under the `if` statement is executed. Also, note that we are using the string `format` method to include the number within the message.\n",
    "\n",
    "> <font face = \"Elephant\" color=\"red\">*Try the above again with an odd number.*</font>"
   ]
  },
  {
   "cell_type": "markdown",
   "id": "1e450694",
   "metadata": {},
   "source": [
    "><font face = \"Times New Roman\" color = \"blue black\"> Write a python program that accept five numbers from user and compute there summation and average as well as display the result to the user</font> "
   ]
  },
  {
   "cell_type": "markdown",
   "id": "eff4147b",
   "metadata": {},
   "source": [
    "As expected, since the condition `another_number % 2 == 0` evaluates to `False`, no message is printed. \n",
    "\n",
    "### The `else` statement\n",
    "\n",
    "We may want to print a different message if the number is not even in the above example. This can be done by adding the `else` statement. It is written as follows:\n",
    "\n",
    "\n",
    "```\n",
    "if condition:\n",
    "    statement1\n",
    "    statement2\n",
    "else:\n",
    "     statement4\n",
    "     statement5\n",
    "\n",
    "```\n",
    "\n",
    "If `condition` evaluates to `True`, the statements in the `if` block are executed. If it evaluates to `False`, the statements in the `else` block are executed."
   ]
  },
  {
   "cell_type": "code",
   "execution_count": null,
   "id": "477953f0",
   "metadata": {},
   "outputs": [],
   "source": [
    "another_number = 20\n",
    "if another_number % 2 == 0:\n",
    "    print('The given number {} is even.'.format(another_number))\n",
    "else:\n",
    "    print('The given number {} is odd.'.format(another_number))"
   ]
  },
  {
   "cell_type": "markdown",
   "id": "453011cd",
   "metadata": {},
   "source": [
    "><font face = \"Times New Roman\" color = \"blue black\">Here's another example, which uses the `in` operator to check membership within a tuple.</font>"
   ]
  },
  {
   "cell_type": "code",
   "execution_count": null,
   "id": "f1ca13b7",
   "metadata": {},
   "outputs": [],
   "source": [
    "players = ('Ronaldo', 'Messi', 'Pele', 'Maradona', 'Okocha')\n",
    "if 'Ronaldo' in players:\n",
    "    print('Ronaldo is a football player.')\n",
    "else:\n",
    "    print('Ronaldo is not a football player.')"
   ]
  },
  {
   "cell_type": "markdown",
   "id": "8204e822",
   "metadata": {},
   "source": [
    "### The `elif` statement\n",
    "\n",
    "<font face = \"Times New Roman\">Python also provides an `elif` statement (short for \"else if\") to chain a series of conditional blocks. The conditions are evaluated one by one. For the first condition that evaluates to `True`, the block of statements below it is executed. The remaining conditions and statements are not evaluated. So, in an `if`, `elif`, `elif`... chain, at most one block of statements is executed, the one corresponding to the first condition that evaluates to `True`. </font>"
   ]
  },
  {
   "cell_type": "markdown",
   "id": "77cd4efa",
   "metadata": {},
   "source": [
    "><font face = \"Times New Roman\" color = \"blue black\"> Create a Python program that takes a student's name and ID as input, along with their marks (out of 100) in Math, Chemistry, Physics, English, Biology, and Programming, then computes their average grade</font> \n",
    "\n",
    "* average >=90, A+\n",
    "* average >=85, A\n",
    "* average >=80, A-\n",
    "* average >=75, B+\n",
    "* average >=70, B\n",
    "* average >=65, B-\n",
    "* average >=60, C+\n",
    "* average >=50, C\n",
    "* average >=45, C-\n",
    "* average >=40, D\n",
    "* average < 40, F\n"
   ]
  },
  {
   "cell_type": "code",
   "execution_count": null,
   "id": "489f125e",
   "metadata": {},
   "outputs": [],
   "source": [
    "# Simple Student Grade Calculator\n",
    "\n",
    "# Get student information\n",
    "print(\"STUDENT GRADE CALCULATOR\")\n",
    "print(\"=\" * 30)\n",
    "\n",
    "student_name = input(\"Enter student's name: \")\n",
    "student_id = input(\"Enter student's ID: \")\n",
    "\n",
    "# Get marks for each subject\n",
    "print(\"\\nEnter marks for each subject (out of 100):\")\n",
    "\n",
    "math = float(input(\"Enter Math marks: \"))\n",
    "chemistry = float(input(\"Enter Chemistry marks: \"))\n",
    "physics = float(input(\"Enter Physics marks: \"))\n",
    "english = float(input(\"Enter English marks: \"))\n",
    "biology = float(input(\"Enter Biology marks: \"))\n",
    "programming = float(input(\"Enter Programming marks: \"))\n",
    "\n",
    "# Calculate total and average\n",
    "total_marks = math + chemistry + physics + english + biology + programming\n",
    "average = total_marks / 6\n",
    "\n",
    "# Determine letter grade\n",
    "if average >= 90 and average <= 100:\n",
    "    letter_grade = \"A+\"\n",
    "elif average >= 85 and average < 90:\n",
    "    letter_grade = \"A\"\n",
    "elif average >= 80 and average < 85:\n",
    "    letter_grade = \"A-\"\n",
    "elif average >= 75 and average < 80:\n",
    "    letter_grade = \"B+\"\n",
    "elif average >= 70 and average < 75:\n",
    "    letter_grade = \"B\"          \n",
    "elif average >= 65 and average < 70:\n",
    "    letter_grade = \"B-\"\n",
    "elif average >= 60 and average < 65:\n",
    "    letter_grade = \"C+\"\n",
    "elif average >= 50 and average < 59:\n",
    "    letter_grade = \"C\"\n",
    "elif average >= 45 and average < 50:\n",
    "    letter_grade = \"C-\"\n",
    "elif average >= 40 and average < 45:\n",
    "    letter_grade = \"D\"\n",
    "elif average >= 0 and average < 40:\n",
    "    letter_grade = \"F\"\n",
    "else:\n",
    "    letter_grade = \"Please enter valid marks\"\n",
    "\n",
    "# Display results\n",
    "print(\"\\n\" + \"=\" * 40)\n",
    "print(\"GRADE REPORT\")\n",
    "print(\"=\" * 40)\n",
    "print(f\"Student Name: {student_name}\")\n",
    "print(f\"Student ID: {student_id}\")\n",
    "print(\"-\" * 40)\n",
    "print(f\"Math        : {math}/100\")\n",
    "print(f\"Chemistry   : {chemistry}/100\")\n",
    "print(f\"Physics     : {physics}/100\")\n",
    "print(f\"English     : {english}/100\")\n",
    "print(f\"Biology     : {biology}/100\")\n",
    "print(f\"Programming : {programming}/100\")\n",
    "print(\"-\" * 40)\n",
    "print(f\"Total Marks : {total_marks}/600\")\n",
    "print(f\"Average     : {average:.2f}%\")\n",
    "print(f\"Grade       : {letter_grade}\")\n",
    "print(\"=\" * 40)"
   ]
  },
  {
   "cell_type": "markdown",
   "id": "efa7a299",
   "metadata": {},
   "source": [
    "><font face = \"Times New Roman\" color = \"blue black\"> \n",
    "Create a Python program that takes `three floating point` numbers as input, then display the largest number</font> "
   ]
  },
  {
   "cell_type": "markdown",
   "id": "674e6b8f",
   "metadata": {},
   "source": [
    ">Conditions can also be combined using the logical operators `and`, `or` and `not`. "
   ]
  },
  {
   "cell_type": "code",
   "execution_count": null,
   "id": "509fe889",
   "metadata": {},
   "outputs": [],
   "source": [
    "yes = 30\n",
    "if yes % 3 == 0 and yes % 5 == 0:\n",
    "    print(\"The number {} is divisible by 3 and 5\".format(yes))\n",
    "elif not yes % 5 == 0:\n",
    "    print(\"The number {} is not divisible by 5\".format(yes))"
   ]
  },
  {
   "cell_type": "code",
   "execution_count": null,
   "id": "c5d89e1f",
   "metadata": {},
   "outputs": [],
   "source": [
    "#Another Example\n",
    "# Example 1: Password validation\n",
    "password = \"abc123\"\n",
    "username = \"user\"\n",
    "\n",
    "print(f\"Example 5 - Username: {username}, Password: {password}\")\n",
    "\n",
    "if len(password) < 6 or len(username) < 3:\n",
    "    print(\"Password or username too short\")\n",
    "elif password == \"password\" or password == \"123456\":\n",
    "    print(\"Password is too common\")\n",
    "elif username == \"admin\" or username == \"root\":\n",
    "    print(\"Username is restricted\")\n",
    "else:\n",
    "    print(\"Credentials are valid\")\n",
    "\n",
    "print(\"-\" * 30)"
   ]
  },
  {
   "cell_type": "markdown",
   "id": "b0ddd05e",
   "metadata": {},
   "source": [
    "### `Non-Boolean Conditions`\n",
    "\n",
    "><font face = \"Times New Roman\">\n",
    "`Note that:` conditions do not necessarily have to be booleans. In fact, a condition can be any value. The value is converted into a boolean automatically using the `bool` operator. This means that falsy values like `0`, `''`, `{}`, `[]`, etc. evaluate to `False` and all other values evaluate to `True`.\n",
    "</font>"
   ]
  },
  {
   "cell_type": "code",
   "execution_count": null,
   "id": "330dbec8",
   "metadata": {},
   "outputs": [],
   "source": [
    "if '':\n",
    "    print('The condition evaluted to True')\n",
    "else:\n",
    "    print('The condition evaluted to False')"
   ]
  },
  {
   "cell_type": "code",
   "execution_count": null,
   "id": "c981abaf",
   "metadata": {},
   "outputs": [],
   "source": [
    "if 'Hello':\n",
    "    print('The condition evaluted to True')\n",
    "else:\n",
    "    print('The condition evaluted to False')"
   ]
  },
  {
   "cell_type": "code",
   "execution_count": null,
   "id": "63b10d2f",
   "metadata": {},
   "outputs": [],
   "source": [
    "if { 'a': 34 }:\n",
    "    print('The condition evaluted to True')\n",
    "else:\n",
    "    print('The condition evaluted to False')"
   ]
  },
  {
   "cell_type": "code",
   "execution_count": null,
   "id": "1a881816",
   "metadata": {},
   "outputs": [],
   "source": [
    "if None:\n",
    "    print('The condition evaluted to True')\n",
    "else:\n",
    "    print('The condition evaluted to False')"
   ]
  },
  {
   "cell_type": "markdown",
   "id": "c23364b8",
   "metadata": {},
   "source": [
    "### `Nested conditional statements`\n",
    "\n",
    "><font face = \"Times New Roman\">\n",
    "The code inside an `if` block can also include an `if` statement inside it. This pattern is called `nesting` and is used to check for another condition after a particular condition holds true.\n",
    "</font>"
   ]
  },
  {
   "cell_type": "code",
   "execution_count": null,
   "id": "8a184fbb",
   "metadata": {},
   "outputs": [],
   "source": [
    "number = 24\n",
    "if number % 2 == 0:\n",
    "    print(\"{} is even\".format(number))\n",
    "    if number % 3 == 0:\n",
    "        print(\"{} is also divisible by 3\".format(number))\n",
    "    else:\n",
    "        print(\"{} is not divisibule by 3\".format(number))\n",
    "else:\n",
    "    print(\"{} is odd\".format(number))\n",
    "    if number % 5 == 0:\n",
    "        print(\"{} is also divisible by 5\".format(number))\n",
    "    else:\n",
    "        print(\"{} is not divisible by 5\".format(number))"
   ]
  },
  {
   "cell_type": "code",
   "execution_count": 15,
   "id": "958d00e6",
   "metadata": {},
   "outputs": [
    {
     "name": "stdout",
     "output_type": "stream",
     "text": [
      "Incorrect username\n"
     ]
    }
   ],
   "source": [
    "user_name = input(\"Enter username: \")\n",
    "password = input(\"Enter correct password: \")\n",
    "if user_name == \"admin\":\n",
    "    if password == \"123456\":\n",
    "        print(\"Incorrect password\")\n",
    "    else:\n",
    "        print(\"Login successful\")\n",
    "else:\n",
    "    print(\"Incorrect username\")"
   ]
  },
  {
   "cell_type": "markdown",
   "id": "ce973cee",
   "metadata": {},
   "source": [
    "### Shorthand `if` conditional expression\n",
    "\n",
    "><font face = \"Times New Roman\">\n",
    "A frequent use case of the `if` statement involves testing a condition and setting a variable's value based on the condition."
   ]
  },
  {
   "cell_type": "code",
   "execution_count": null,
   "id": "99f5fd98",
   "metadata": {},
   "outputs": [],
   "source": [
    "a_number = 13\n",
    "\n",
    "if a_number % 2 == 0:\n",
    "    parity = 'even'\n",
    "else:\n",
    "    parity = 'odd'\n",
    "\n",
    "print('The number {} is {}.'.format(a_number, parity))"
   ]
  },
  {
   "cell_type": "markdown",
   "id": "2a2342c7",
   "metadata": {},
   "source": [
    "> <font face = \"cambria\">\n",
    "Python provides a shorter syntax, which allows writing such conditions in a single line of code. It is known as a `*conditional expression*`, sometimes also referred to as a `*ternary operator*`. It has the following syntax:\n",
    "\n",
    "```\n",
    "x = true_value if condition else false_value\n",
    "```\n",
    "\n",
    "It has the same behavior as the following `if`-`else` block:\n",
    "\n",
    "```\n",
    "if condition:\n",
    "    x = true_value\n",
    "else:\n",
    "    x = false_value\n",
    "```\n",
    "\n",
    "Let's try it out for the example above."
   ]
  },
  {
   "cell_type": "code",
   "execution_count": 16,
   "id": "9d0a5c24",
   "metadata": {},
   "outputs": [
    {
     "name": "stdout",
     "output_type": "stream",
     "text": [
      "The number 10 is even.\n"
     ]
    }
   ],
   "source": [
    "parity = 'even' if a_number % 2 == 0 else 'odd'\n",
    "print('The number {} is {}.'.format(a_number, parity))"
   ]
  },
  {
   "cell_type": "code",
   "execution_count": null,
   "id": "87663f40",
   "metadata": {},
   "outputs": [],
   "source": []
  }
 ],
 "metadata": {
  "kernelspec": {
   "display_name": "Python 3",
   "language": "python",
   "name": "python3"
  },
  "language_info": {
   "codemirror_mode": {
    "name": "ipython",
    "version": 3
   },
   "file_extension": ".py",
   "mimetype": "text/x-python",
   "name": "python",
   "nbconvert_exporter": "python",
   "pygments_lexer": "ipython3",
   "version": "3.11.3"
  }
 },
 "nbformat": 4,
 "nbformat_minor": 5
}
