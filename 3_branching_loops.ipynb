{
 "cells": [
  {
   "cell_type": "markdown",
   "id": "ec6b3662",
   "metadata": {},
   "source": [
    "#### <center>`Branching and Loops`</center>\n",
    "\n",
    "![](https://i.imgur.com/7RfcHV0.png)"
   ]
  },
  {
   "cell_type": "markdown",
   "id": "8e3d99db",
   "metadata": {},
   "source": [
    "### <center><font color = \"pink\" face = \"Elephant\" > Outlines</font></center>\n",
    "\n",
    "* <font color = \"pink\" face = \"Elephant\">Branching with if, else and elif</font>\n",
    "* <font color = \"pink\" face = \"Elephant\">Nested conditions and if expressions</font>\n",
    "* <font color = \"pink\" face = \"Elephant\">Iteration with while loops</font>\n",
    "* <font color = \"pink\" face = \"Elephant\">Iterating over containers with for loops</font>\n",
    "* <font color = \"pink\" face = \"Elephant\">Nested loops, break and continue statements</font>"
   ]
  },
  {
   "cell_type": "markdown",
   "id": "a93067fc",
   "metadata": {},
   "source": [
    "## Branching with `if`, `else` and `elif`\n",
    "\n",
    "One of the most powerful features of programming languages is *branching*: the ability to make decisions and execute a different set of statements based on whether one or more conditions are true.\n",
    "\n",
    "### The `if` statement\n",
    "\n",
    "In Python, branching is implemented using the `if` statement, which is written as follows:\n",
    "<center>\n",
    "<font face = \"Elephant\">\n",
    "\n",
    "```\n",
    "if condition:\n",
    "    statement1\n",
    "    statement2\n",
    "\n",
    "```\n",
    "\n",
    "</font>\n",
    "</center>\n",
    "The `condition` can be a value, variable or expression. If the condition evaluates to `True`, then the statements within the *`if` block* are executed. Notice the four spaces before `statement1`, `statement2`, etc. The spaces inform Python that these statements are associated with the `if` statement above. This technique of structuring code by adding spaces is called *indentation*.\n",
    "\n",
    "> **Indentation**: Python relies heavily on *indentation* (white space before a statement) to define code structure. This makes Python code easy to read and understand. You can run into problems if you don't use indentation properly. Indent your code by placing the cursor at the start of the line and pressing the `Tab` key once to add 4 spaces. Pressing `Tab` again will indent the code further by 4 more spaces, and press `Shift+Tab` will reduce the indentation by 4 spaces. \n",
    "\n",
    "\n",
    "><font face = \"Times New Roman\" color = \"blue black\"> For example, let's write some code to check and print a message if a given number is even.\n",
    "</font>\n"
   ]
  },
  {
   "cell_type": "markdown",
   "id": "f909a7cc",
   "metadata": {},
   "source": [
    "### Statements and Expressions\n",
    "\n",
    "The conditional expression highlights an essential distinction between `*statements*` and `*expressions*` in Python. \n",
    "\n",
    "> <font face = \"cambria\">\n",
    "**Statements**: A statement is an instruction that can be executed. Every line of code we have written so far is a statement e.g. assigning a variable, calling a function, conditional statements using `if`, `else`, and `elif`, loops using `for` and `while` etc.\n",
    "\n",
    "> **Expressions**: An expression is some code that evaluates to a value. Examples include values of different data types, arithmetic expressions, conditions, variables, function calls, conditional expressions, etc. \n",
    "\n",
    "\n",
    "Most expressions can be executed as statements, but not all statements are expressions. For example, the regular `if` statement is not an expression since it does not evaluate to a value. It merely performs some branching in the code. Similarly, loops and function definitions are not expressions \n",
    "\n",
    "As a rule of thumb, an expression is anything that can appear on the right side of the assignment operator `=`. You can use this as a test for checking whether something is an expression or not. You'll get a syntax error if you try to assign something that is not an expression."
   ]
  },
  {
   "cell_type": "code",
   "execution_count": null,
   "id": "19d90057",
   "metadata": {},
   "outputs": [],
   "source": [
    "a_number = float(input(\"Enter the number\"))\n",
    "if a_number % 2 == 0:\n",
    "    print(\"We're inside an if block\")\n",
    "    print('The given number {} is even.'.format(a_number))"
   ]
  },
  {
   "cell_type": "markdown",
   "id": "e9261a1f",
   "metadata": {},
   "source": [
    "We use the modulus operator `%` to calculate the remainder from the division of `a_number` by `2`. Then, we use the comparison operator `==` check if the remainder is `0`, which tells us whether the number is even, i.e., divisible by 2.\n",
    "\n",
    "Since `10` is divisible by `2`, the expression `a_number % 2 == 0` evaluates to `True`, so the `print` statement under the `if` statement is executed. Also, note that we are using the string `format` method to include the number within the message.\n",
    "\n",
    "> <font face = \"Elephant\" color=\"red\">*Try the above again with an odd number.*</font>"
   ]
  },
  {
   "cell_type": "markdown",
   "id": "1e450694",
   "metadata": {},
   "source": [
    "><font face = \"Times New Roman\" color = \"blue black\"> Write a python program that accept five numbers from user and compute there summation and average as well as display the result to the user</font> "
   ]
  },
  {
   "cell_type": "markdown",
   "id": "eff4147b",
   "metadata": {},
   "source": [
    "As expected, since the condition `another_number % 2 == 0` evaluates to `False`, no message is printed. \n",
    "\n",
    "### The `else` statement\n",
    "\n",
    "We may want to print a different message if the number is not even in the above example. This can be done by adding the `else` statement. It is written as follows:\n",
    "\n",
    "\n",
    "```\n",
    "if condition:\n",
    "    statement1\n",
    "    statement2\n",
    "else:\n",
    "     statement4\n",
    "     statement5\n",
    "\n",
    "```\n",
    "\n",
    "If `condition` evaluates to `True`, the statements in the `if` block are executed. If it evaluates to `False`, the statements in the `else` block are executed."
   ]
  },
  {
   "cell_type": "code",
   "execution_count": null,
   "id": "475107ba",
   "metadata": {},
   "outputs": [],
   "source": [
    "a= float(input(\"Enter the first number\"))\n",
    "b =float(input(\"Enter the second number\"))\n",
    "c= float(input(\"Enter the third number\"))\n",
    "\n",
    "if a>b and a>c:\n",
    "    print(\"{} is the largest number \".format(a))\n",
    "elif b>a and b>c:\n",
    "    print(\"{} is the largest number \".format(b))\n",
    "else:\n",
    "    print(\"{} is the largest number\".format(c))"
   ]
  },
  {
   "cell_type": "code",
   "execution_count": null,
   "id": "477953f0",
   "metadata": {},
   "outputs": [],
   "source": [
    "another_number = 20\n",
    "if another_number % 2 == 0:\n",
    "    print('The given number {} is even.'.format(another_number))\n",
    "else:\n",
    "    print('The given number {} is odd.'.format(another_number))"
   ]
  },
  {
   "cell_type": "markdown",
   "id": "453011cd",
   "metadata": {},
   "source": [
    "><font face = \"Times New Roman\" color = \"blue black\">Here's another example, which uses the `in` operator to check membership within a tuple.</font>"
   ]
  },
  {
   "cell_type": "code",
   "execution_count": null,
   "id": "f1ca13b7",
   "metadata": {},
   "outputs": [],
   "source": [
    "players = ('Ronaldo', 'Messi', 'Pele', 'Maradona', 'Okocha')\n",
    "if 'Ronaldo' in players:\n",
    "    print('Ronaldo is a football player.')\n",
    "else:\n",
    "    print('Ronaldo is not a football player.')"
   ]
  },
  {
   "cell_type": "code",
   "execution_count": null,
   "id": "b7562d59",
   "metadata": {},
   "outputs": [],
   "source": [
    "list1 = ['mareg', 'betelehim', 'ekram', 'kalkidan']\n",
    "if 'fuad' in list1:\n",
    "    print(\"Faud is found on above list\")\n",
    "else:\n",
    "    print(\"Faud is not found on above list\")"
   ]
  },
  {
   "cell_type": "markdown",
   "id": "8204e822",
   "metadata": {},
   "source": [
    "### The `elif` statement\n",
    "\n",
    "<font face = \"Times New Roman\">Python also provides an `elif` statement (short for \"else if\") to chain a series of conditional blocks. The conditions are evaluated one by one. For the first condition that evaluates to `True`, the block of statements below it is executed. The remaining conditions and statements are not evaluated. So, in an `if`, `elif`, `elif`... chain, at most one block of statements is executed, the one corresponding to the first condition that evaluates to `True`. </font>"
   ]
  },
  {
   "cell_type": "markdown",
   "id": "77cd4efa",
   "metadata": {},
   "source": [
    "><font face = \"Times New Roman\" color = \"blue black\"> Create a Python program that takes a student's name and ID as input, along with their marks (out of 100) in Math, Chemistry, Physics, English, Biology, and Programming, then computes their average grade</font> \n",
    "\n",
    "* average >=90, A+\n",
    "* average >=85, A\n",
    "* average >=80, A-\n",
    "* average >=75, B+\n",
    "* average >=70, B\n",
    "* average >=65, B-\n",
    "* average >=60, C+\n",
    "* average >=50, C\n",
    "* average >=45, C-\n",
    "* average >=40, D\n",
    "* average < 40, F\n"
   ]
  },
  {
   "cell_type": "code",
   "execution_count": null,
   "id": "489f125e",
   "metadata": {},
   "outputs": [],
   "source": [
    "# Simple Student Grade Calculator\n",
    "\n",
    "# Get student information\n",
    "print(\"STUDENT GRADE CALCULATOR\")\n",
    "print(\"=\" * 30)\n",
    "\n",
    "student_name = input(\"Enter student's name: \")\n",
    "student_id = input(\"Enter student's ID: \")\n",
    "\n",
    "# Get marks for each subject\n",
    "print(\"\\nEnter marks for each subject (out of 100):\")\n",
    "\n",
    "math = float(input(\"Enter Math marks: \"))\n",
    "chemistry = float(input(\"Enter Chemistry marks: \"))\n",
    "physics = float(input(\"Enter Physics marks: \"))\n",
    "english = float(input(\"Enter English marks: \"))\n",
    "biology = float(input(\"Enter Biology marks: \"))\n",
    "programming = float(input(\"Enter Programming marks: \"))\n",
    "\n",
    "# Calculate total and average\n",
    "total_marks = math + chemistry + physics + english + biology + programming\n",
    "average = total_marks / 6\n",
    "\n",
    "# Determine letter grade\n",
    "if average >= 90 and average <= 100:\n",
    "    letter_grade = \"A+\"\n",
    "elif average >= 85 and average < 90:\n",
    "    letter_grade = \"A\"\n",
    "elif average >= 80 and average < 85:\n",
    "    letter_grade = \"A-\"\n",
    "elif average >= 75 and average < 80:\n",
    "    letter_grade = \"B+\"\n",
    "elif average >= 70 and average < 75:\n",
    "    letter_grade = \"B\"          \n",
    "elif average >= 65 and average < 70:\n",
    "    letter_grade = \"B-\"\n",
    "elif average >= 60 and average < 65:\n",
    "    letter_grade = \"C+\"\n",
    "elif average >= 50 and average < 59:\n",
    "    letter_grade = \"C\"\n",
    "elif average >= 45 and average < 50:\n",
    "    letter_grade = \"C-\"\n",
    "elif average >= 40 and average < 45:\n",
    "    letter_grade = \"D\"\n",
    "elif average >= 0 and average < 40:\n",
    "    letter_grade = \"F\"\n",
    "else:\n",
    "    letter_grade = \"Please enter valid marks\"\n",
    "\n",
    "# Display results\n",
    "print(\"\\n\" + \"=\" * 40) #================\n",
    "                        #Grade Report\n",
    "                        #===============\n",
    "print(\"GRADE REPORT\")\n",
    "print(\"=\" * 40)\n",
    "print(f\"Student Name: {student_name}\")\n",
    "print(f\"Student ID: {student_id}\")\n",
    "print(\"-\" * 40)\n",
    "print(f\"Math        : {math}/100\")\n",
    "print(f\"Chemistry   : {chemistry}/100\")\n",
    "print(f\"Physics     : {physics}/100\")\n",
    "print(f\"English     : {english}/100\")\n",
    "print(f\"Biology     : {biology}/100\")\n",
    "print(f\"Programming : {programming}/100\")\n",
    "print(\"-\" * 40)\n",
    "print(f\"Total Marks : {total_marks}/600\")\n",
    "print(f\"Average     : {average:.2f}%\")\n",
    "print(f\"Grade       : {letter_grade}\")\n",
    "print(\"=\" * 40)"
   ]
  },
  {
   "cell_type": "markdown",
   "id": "efa7a299",
   "metadata": {},
   "source": [
    "><font face = \"Times New Roman\" color = \"blue black\"> \n",
    "Create a Python program that takes `three floating point` numbers as input, then display the largest number</font> "
   ]
  },
  {
   "cell_type": "markdown",
   "id": "674e6b8f",
   "metadata": {},
   "source": [
    ">Conditions can also be combined using the logical operators `and`, `or` and `not`. "
   ]
  },
  {
   "cell_type": "code",
   "execution_count": null,
   "id": "509fe889",
   "metadata": {},
   "outputs": [],
   "source": [
    "yes = 30\n",
    "if yes % 3 == 0 and yes % 5 == 0:\n",
    "    print(\"The number {} is divisible by 3 and 5\".format(yes))\n",
    "elif not yes % 5 == 0:\n",
    "    print(\"The number {} is not divisible by 5\".format(yes))"
   ]
  },
  {
   "cell_type": "code",
   "execution_count": null,
   "id": "c5d89e1f",
   "metadata": {},
   "outputs": [],
   "source": [
    "#Another Example\n",
    "# Example 1: Password validation\n",
    "password = \"abc123\"\n",
    "username = \"user\"\n",
    "\n",
    "print(f\"Example 5 - Username: {username}, Password: {password}\")\n",
    "\n",
    "if len(password) < 6 or len(username) < 3:\n",
    "    print(\"Password or username too short\")\n",
    "elif password == \"password\" or password == \"123456\":\n",
    "    print(\"Password is too common\")\n",
    "elif username == \"admin\" or username == \"root\":\n",
    "    print(\"Username is restricted\")\n",
    "else:\n",
    "    print(\"Credentials are valid\")\n",
    "\n",
    "print(\"-\" * 30)"
   ]
  },
  {
   "cell_type": "markdown",
   "id": "b0ddd05e",
   "metadata": {},
   "source": [
    "### `Non-Boolean Conditions`\n",
    "\n",
    "><font face = \"Times New Roman\">\n",
    "`Note that:` conditions do not necessarily have to be booleans. In fact, a condition can be any value. The value is converted into a boolean automatically using the `bool` operator. This means that falsy values like `0`, `''`, `{}`, `[]`, etc. evaluate to `False` and all other values evaluate to `True`.\n",
    "</font>"
   ]
  },
  {
   "cell_type": "code",
   "execution_count": null,
   "id": "330dbec8",
   "metadata": {},
   "outputs": [],
   "source": [
    "if '':\n",
    "    print('The condition evaluted to True')\n",
    "else:\n",
    "    print('The condition evaluted to False')"
   ]
  },
  {
   "cell_type": "code",
   "execution_count": null,
   "id": "c981abaf",
   "metadata": {},
   "outputs": [],
   "source": [
    "if 'Hello':\n",
    "    print('The condition evaluted to True')\n",
    "else:\n",
    "    print('The condition evaluted to False')"
   ]
  },
  {
   "cell_type": "code",
   "execution_count": null,
   "id": "63b10d2f",
   "metadata": {},
   "outputs": [],
   "source": [
    "if { 'a': 34 }:\n",
    "    print('The condition evaluted to True')\n",
    "else:\n",
    "    print('The condition evaluted to False')"
   ]
  },
  {
   "cell_type": "code",
   "execution_count": null,
   "id": "1a881816",
   "metadata": {},
   "outputs": [],
   "source": [
    "if None:\n",
    "    print('The condition evaluted to True')\n",
    "else:\n",
    "    print('The condition evaluted to False')"
   ]
  },
  {
   "cell_type": "markdown",
   "id": "c23364b8",
   "metadata": {},
   "source": [
    "### `Nested conditional statements`\n",
    "\n",
    "><font face = \"Times New Roman\">\n",
    "The code inside an `if` block can also include an `if` statement inside it. This pattern is called `nesting` and is used to check for another condition after a particular condition holds true.\n",
    "</font>"
   ]
  },
  {
   "cell_type": "code",
   "execution_count": null,
   "id": "8a184fbb",
   "metadata": {},
   "outputs": [],
   "source": [
    "number = 24\n",
    "if number % 2 == 0:\n",
    "    print(\"{} is even\".format(number))\n",
    "    if number % 3 == 0:\n",
    "        print(\"{} is also divisible by 3\".format(number))\n",
    "    else:\n",
    "        print(\"{} is not divisibule by 3\".format(number))\n",
    "else:\n",
    "    print(\"{} is odd\".format(number))\n",
    "    if number % 5 == 0:\n",
    "        print(\"{} is also divisible by 5\".format(number))\n",
    "    else:\n",
    "        print(\"{} is not divisible by 5\".format(number))"
   ]
  },
  {
   "cell_type": "code",
   "execution_count": null,
   "id": "958d00e6",
   "metadata": {},
   "outputs": [],
   "source": [
    "user_name = input(\"Enter username: \")\n",
    "password = input(\"Enter correct password: \")\n",
    "if user_name == \"admin\":\n",
    "    if password == \"123456\":\n",
    "        print(\"Login successful\")\n",
    "    else:\n",
    "        print(\"Incorrect password\")\n",
    "else:\n",
    "    print(\"Incorrect username\")"
   ]
  },
  {
   "cell_type": "code",
   "execution_count": null,
   "id": "9074483d",
   "metadata": {},
   "outputs": [],
   "source": [
    "x,y = 23, 13\n",
    "largest = \"largest number\" if x > y else \"smallest number\"\n",
    "print(\"{} is the {}\".format(x,largest))"
   ]
  },
  {
   "cell_type": "markdown",
   "id": "ce973cee",
   "metadata": {},
   "source": [
    "### Shorthand `if` conditional expression\n",
    "\n",
    "><font face = \"Times New Roman\">\n",
    "A frequent use case of the `if` statement involves testing a condition and setting a variable's value based on the condition."
   ]
  },
  {
   "cell_type": "code",
   "execution_count": null,
   "id": "99f5fd98",
   "metadata": {},
   "outputs": [],
   "source": [
    "a_number = 13\n",
    "\n",
    "if a_number % 2 == 0:\n",
    "    parity = 'even'\n",
    "else:\n",
    "    parity = 'odd'\n",
    "\n",
    "print('The number {} is {}.'.format(a_number, parity))"
   ]
  },
  {
   "cell_type": "markdown",
   "id": "2a2342c7",
   "metadata": {},
   "source": [
    "> <font face = \"cambria\">\n",
    "Python provides a shorter syntax, which allows writing such conditions in a single line of code. It is known as a `*conditional expression*`, sometimes also referred to as a `*ternary operator*`. It has the following syntax:\n",
    "\n",
    "```\n",
    "x = true_value if condition else false_value\n",
    "```\n",
    "\n",
    "It has the same behavior as the following `if`-`else` block:\n",
    "\n",
    "```\n",
    "if condition:\n",
    "    x = true_value\n",
    "else:\n",
    "    x = false_value\n",
    "```\n",
    "\n",
    "Let's try it out for the example above."
   ]
  },
  {
   "cell_type": "code",
   "execution_count": null,
   "id": "9d0a5c24",
   "metadata": {},
   "outputs": [],
   "source": [
    "a_number = 10\n",
    "parity = 'even' if a_number % 2 == 0 else 'odd'\n",
    "print('The number {} is {}.'.format(a_number, parity))"
   ]
  },
  {
   "cell_type": "markdown",
   "id": "c92e5959",
   "metadata": {},
   "source": [
    "### <font face = \"cambria\" color = \"#EE1678\">The `pass` statement\n",
    "\n",
    "`if` statements cannot be empty, there must be at least one statement in every `if` and `elif` block. You can use the `pass` statement to do nothing and avoid getting an error."
   ]
  },
  {
   "cell_type": "code",
   "execution_count": null,
   "id": "87663f40",
   "metadata": {},
   "outputs": [],
   "source": [
    "a_number = 9\n",
    "if a_number % 2 == 0:\n",
    "    pass\n",
    "elif a_number % 3 == 0:\n",
    "    print('{} is divisible by 3 but not divisible by 2')\n",
    "\n",
    "#This code will result in an error because the `if` statement is empty.\n",
    "#The type of error is a `IndentationError` because the `if` statement is not indented correctly."
   ]
  },
  {
   "cell_type": "code",
   "execution_count": null,
   "id": "416a3dc1",
   "metadata": {},
   "outputs": [],
   "source": [
    "#The `pass` statement `if` statements cannot be empty, there must be at least one statement in every `if` and `elif` block. You can use the `pass` statement to do nothing and avoid getting an error.\n",
    "a_number = 9\n",
    "if a_number % 2 == 0:\n",
    "    pass\n",
    "elif a_number % 3 == 0:\n",
    "    print('{} is divisible by 3 but not divisible by 2')"
   ]
  },
  {
   "cell_type": "markdown",
   "id": "a2cad4d6",
   "metadata": {},
   "source": [
    "## <font face = \"cambria\" color = \"#EAB113\">Iteration with `while` loops\n",
    "\n",
    "Another powerful feature of programming languages, closely related to branching, is running one or more statements multiple times. This feature is often referred to as *iteration* on *looping*, and there are two ways to do this in Python: using `while` loops and `for` loops. \n",
    "\n",
    "`while` loops have the following syntax:\n",
    "\n",
    "```\n",
    "while condition:\n",
    "    statement(s)\n",
    "```\n",
    "\n",
    "Statements in the code block under `while` are executed repeatedly as long as the `condition` evaluates to `True`. Generally, one of the statements under `while` makes some change to a variable that causes the condition to evaluate to `False` after a certain number of iterations.\n",
    "\n",
    ">><font face = \"cambria\" color = \"#EA1378\">Let's try to calculate the factorial of `5` using a `while` loop. The factorial of a number `n` is the product (multiplication) of all the numbers from `1` to `n`, i.e., `1*2*3*...*(n-2)*(n-1)*n`."
   ]
  },
  {
   "cell_type": "code",
   "execution_count": null,
   "id": "438b6595",
   "metadata": {},
   "outputs": [],
   "source": [
    "factorial = 1\n",
    "i = 1\n",
    "\n",
    "while i <= 5:\n",
    "    factorial = factorial * i\n",
    "    i = i+1\n",
    "\n",
    "print('The factorial of 5 is: {}'.format(factorial))"
   ]
  },
  {
   "cell_type": "markdown",
   "id": "98d40448",
   "metadata": {},
   "source": [
    "<font face = \"cambria\" color = \"#FF01BB\">Here's how the above code works:\n",
    "\n",
    "* We initialize two variables, `result` and, `i`. `result` will contain the final outcome. And `i` is used to keep track of the next number to be multiplied with `result`. Both are initialized to 1 (can you explain why?)\n",
    "\n",
    "* The condition `i <= 5` holds true (since `i` is initially `1`), so the `while` block is executed.\n",
    "\n",
    "* The `result` is updated to `result * i`, `i` is increased by `1` and it now has the value `2`.\n",
    "\n",
    "* At this point, the condition `i <= 5` is evaluated again. Since it continues to hold true, `result` is again updated to `result * i`, and `i` is increased to `3`.\n",
    "\n",
    "* This process is repeated till the condition becomes false, which happens when `i` holds the value `5`. Once the condition evaluates to `False`, the execution of the loop ends, and the `print` statement below it is executed. \n",
    "\n",
    "Can you see why `result` contains the value of the factorial of 5 at the end? If not, try adding `print` statements inside the `while` block to print `result` and `i` in each iteration.\n",
    "\n",
    "\n",
    "><font color = \"#FFFFFF\"> Iteration is a powerful technique because it gives computers a massive advantage over human beings in performing thousands or even millions of repetitive operations really fast. With just 4-5 lines of code, we were able to multiply 5 numbers almost instantly. The same code can be used to multiply a thousand numbers (just change the condition to `i <= 1000`) in a few seconds.\n",
    "\n",
    "You can check how long a cell takes to execute by adding the *magic* command `%%time` at the top of a cell. Try checking how long it takes to compute the factorial of `5`, `1000`, `10000`, `100000`, etc. "
   ]
  },
  {
   "cell_type": "code",
   "execution_count": null,
   "id": "4b10af97",
   "metadata": {},
   "outputs": [],
   "source": [
    "%%time\n",
    "\n",
    "result = 1\n",
    "i = 1\n",
    "\n",
    "while i <= 1000:\n",
    "    result *= i # same as result = result * i\n",
    "    i += 1 # same as i = i+1\n",
    "\n",
    "print(result)"
   ]
  },
  {
   "cell_type": "markdown",
   "id": "01acc456",
   "metadata": {},
   "source": [
    "<font face = \"cambria\" color = \"#FF01BB\">\n",
    "Write a python program that display the following interesting pattern\n",
    "Can you see how the above example works? As an exercise, try printing the following pattern using a while loop (Hint: use string concatenation):\n",
    "\n",
    "```\n",
    "          *\n",
    "         **\n",
    "        ***\n",
    "       ****\n",
    "      *****\n",
    "     ******\n",
    "      *****\n",
    "       ****\n",
    "        ***\n",
    "         **\n",
    "          *\n",
    "```\n",
    "\n",
    "Here's another one, putting the two together:\n",
    "\n",
    "\n",
    "```\n",
    "          *\n",
    "         ***\n",
    "        *****\n",
    "       *******\n",
    "      *********\n",
    "     ***********\n",
    "      *********\n",
    "       *******\n",
    "        *****\n",
    "         ***\n",
    "          *\n",
    "```"
   ]
  },
  {
   "cell_type": "markdown",
   "id": "4fff6fda",
   "metadata": {},
   "source": []
  },
  {
   "cell_type": "code",
   "execution_count": null,
   "id": "56e594e3",
   "metadata": {},
   "outputs": [],
   "source": [
    "star = \"*\" \n",
    "n = 5\n",
    "\n",
    "while len(star) < n:\n",
    "    print(star)\n",
    "    star += \"*\"\n",
    "while len(star) > 0:\n",
    "    print(star)\n",
    "    star = star[:-1]\n",
    "    "
   ]
  },
  {
   "cell_type": "code",
   "execution_count": null,
   "id": "d7f7fc4e",
   "metadata": {},
   "outputs": [],
   "source": [
    "i = 1\n",
    "j = 1\n",
    "while i <= j:\n",
    "    print(i)\n",
    "    while j <= 5:\n",
    "        print(j)\n",
    "        j+=1\n",
    "    i+=1"
   ]
  },
  {
   "cell_type": "markdown",
   "id": "f9e945cf",
   "metadata": {},
   "source": [
    "### `break` and `continue` statements\n",
    "\n",
    "<font face = \"cambria\" color = \"#F816C3\">You can use the `break` statement within the loop's body to immediately stop the execution and *break* out of the loop (even if the condition provided to `while` still holds true)."
   ]
  },
  {
   "cell_type": "code",
   "execution_count": null,
   "id": "b81ae2a4",
   "metadata": {},
   "outputs": [],
   "source": [
    "i = 1\n",
    "result = 1\n",
    "\n",
    "while i <= 100:\n",
    "    result *= i\n",
    "    if i == 42:\n",
    "        print('Magic number 42 reached! Stopping execution..')\n",
    "        break\n",
    "    i += 1\n",
    "    \n",
    "print('i:', i)\n",
    "print('result:', result)"
   ]
  },
  {
   "cell_type": "markdown",
   "id": "671383b3",
   "metadata": {},
   "source": [
    "As you can see above, the value of `i` at the end of execution is 42. This example also shows how you can use an `if` statement within a `while` loop.\n",
    "\n",
    "Sometimes you may not want to end the loop entirely, but simply skip the remaining statements in the loop and *continue* to the next loop. You can do this using the `continue` statement."
   ]
  },
  {
   "cell_type": "code",
   "execution_count": null,
   "id": "9815e184",
   "metadata": {},
   "outputs": [],
   "source": [
    "i = 1\n",
    "result = 1\n",
    "\n",
    "while i < 20:\n",
    "    i += 1\n",
    "    if i % 2 == 0:\n",
    "        print('Skipping {}'.format(i))\n",
    "        continue\n",
    "    print('Multiplying with {}'.format(i))\n",
    "    result = result * i\n",
    "    \n",
    "print('i:', i)\n",
    "print('result:', result)"
   ]
  },
  {
   "cell_type": "markdown",
   "id": "68ffa6fb",
   "metadata": {},
   "source": [
    "In the example above, the statement `result = result * i` inside the loop is skipped when `i` is even, as indicated by the messages printed during execution.\n",
    "\n",
    "> <font color = \"Purple pink\" face = \"cambria\">**Logging**: The process of adding `print` statements at different points in the code (often within loops and conditional statements) for inspecting the values of variables at various stages of execution is called logging. As our programs get larger, they naturally become prone to human errors. Logging can help in verifying the program is working as expected. In many cases, `print` statements are added while writing & testing some code and are removed later."
   ]
  },
  {
   "cell_type": "markdown",
   "id": "9ad421e9",
   "metadata": {},
   "source": [
    "## <font face = \"cambria\">**Iteration with `for` loops**\n",
    "\n",
    "A `for` loop is used for iterating or looping over sequences, i.e., lists, tuples, dictionaries, strings, and *ranges*. For loops have the following syntax:\n",
    "\n",
    "```\n",
    "for value in sequence:\n",
    "    statement(s)\n",
    "```\n",
    "\n",
    "The statements within the loop are executed once for each element in `sequence`. Here's an example that prints all the element of a list."
   ]
  },
  {
   "cell_type": "markdown",
   "id": "d0137cb6",
   "metadata": {},
   "source": [
    "### <font color = \" pink\" face = \"cambria\">write the python program that calculate the summation of numbers only divisible by 7 from 20 to 915 and display the result to the user."
   ]
  },
  {
   "cell_type": "code",
   "execution_count": null,
   "id": "3c585e69",
   "metadata": {},
   "outputs": [],
   "source": [
    "sum = 0\n",
    "for num in range(20, 916):\n",
    "    if num % 7 ==0:\n",
    "        sum = sum + num\n",
    "    else:\n",
    "        continue\n",
    "print(sum)"
   ]
  },
  {
   "cell_type": "code",
   "execution_count": null,
   "id": "5b3ead26",
   "metadata": {},
   "outputs": [],
   "source": [
    "list = [\"no\", \"yes\", \"above\", \"below\"]\n",
    "for li in 'python':\n",
    "    print(li)"
   ]
  },
  {
   "cell_type": "code",
   "execution_count": null,
   "id": "0a1d2108",
   "metadata": {},
   "outputs": [],
   "source": [
    "for i in range(1,6):\n",
    "    for j in range(i, i+1):\n",
    "        print(j, end = \" \")\n",
    "        print()\n",
    "    for k in range(i+1, 0, -1):\n",
    "        print(k, end = \" \")\n",
    "    \n",
    "    print()\n",
    "print()"
   ]
  },
  {
   "cell_type": "code",
   "execution_count": null,
   "id": "fd1b7046",
   "metadata": {},
   "outputs": [],
   "source": [
    "days = ['Monday', 'Tuesday', 'Wednesday', 'Thursday', 'Friday']\n",
    "\n",
    "for day in days:\n",
    "    print(day)"
   ]
  },
  {
   "cell_type": "code",
   "execution_count": null,
   "id": "4188251c",
   "metadata": {},
   "outputs": [],
   "source": [
    "for x in 'Monday':\n",
    "    print(x)"
   ]
  },
  {
   "cell_type": "code",
   "execution_count": null,
   "id": "8c7ab70a",
   "metadata": {},
   "outputs": [],
   "source": [
    "# Looping over a tuple\n",
    "fruit = ('Avocado', 'Banana', 'Mango', 'Lemon')\n",
    "for fruit in range(len(fruit)):#for x in range(4)\n",
    "    print(\"Here's a fruit:\", fruit)"
   ]
  },
  {
   "cell_type": "code",
   "execution_count": null,
   "id": "067e5e1d",
   "metadata": {},
   "outputs": [],
   "source": [
    "course = {\n",
    "    'name':'python',\n",
    "    'code':'InSy1011',\n",
    "    'module':'programming',\n",
    "    'prerequiste':'java'\n",
    "}\n",
    "for key in course:\n",
    "    print(key, \":\", course[key])"
   ]
  },
  {
   "cell_type": "code",
   "execution_count": null,
   "id": "6897eb7e",
   "metadata": {},
   "outputs": [],
   "source": [
    "# Looping over a dictionary\n",
    "person = {\n",
    "    'name': 'Emahus Gebreyes',\n",
    "    'sex': 'female',\n",
    "    'age': 2,\n",
    "    'married': False\n",
    "}\n",
    "\n",
    "for i, value in person.items():\n",
    "    print( i, value)"
   ]
  },
  {
   "cell_type": "markdown",
   "id": "31e7c535",
   "metadata": {},
   "source": [
    "Note that while using a dictionary with a `for` loop, the iteration happens over the dictionary's keys. The key can be used within the loop to access the value. You can also iterate directly over the values using the `.values` method or over key-value pairs using the `.items` method."
   ]
  },
  {
   "cell_type": "code",
   "execution_count": null,
   "id": "5f9e3d4d",
   "metadata": {},
   "outputs": [],
   "source": [
    "for value in person.values():\n",
    "    print(value)"
   ]
  },
  {
   "cell_type": "code",
   "execution_count": null,
   "id": "268f69d5",
   "metadata": {},
   "outputs": [],
   "source": [
    "#Since a key-value pair is a tuple, \n",
    "#we can also extract the key & value into separate variables.\n",
    "\n",
    "for key, value in person.items():\n",
    "    print(\"Key:\", key, \",\", \"Value:\", value)"
   ]
  },
  {
   "cell_type": "markdown",
   "id": "b03f3a5a",
   "metadata": {},
   "source": [
    "### <font face = \"elephant\" color = \"purple\">**Iterating using *`range`* and *`enumerate`***</font>\n",
    "\n",
    "<font face = \"cambria\"> The `range` function is used to create a sequence of numbers that can be iterated over using a `for` loop. It can be used in 3 ways:\n",
    " \n",
    "* `range(n)` - Creates a sequence of numbers from `0` to `n-1`\n",
    "* `range(a, b)` - Creates a sequence of numbers from `a` to `b-1`\n",
    "* `range(a, b, step)` - Creates a sequence of numbers from `a` to `b-1` with increments of `step`\n",
    "\n",
    "Let's try it out."
   ]
  },
  {
   "cell_type": "markdown",
   "id": "a5143853",
   "metadata": {},
   "source": [
    "      1 \n",
    "    2 1 2 \n",
    "  3 2 1 2 3 "
   ]
  },
  {
   "cell_type": "code",
   "execution_count": null,
   "id": "7f86af98",
   "metadata": {},
   "outputs": [],
   "source": [
    "for x in range(0, 6, 1): # assume x as length of the square\n",
    "    for y  in range(0, 6-x): # assume y as a width of the square\n",
    "        print(\"*\", end = \" \")\n",
    "    print()\n"
   ]
  },
  {
   "cell_type": "code",
   "execution_count": null,
   "id": "efa97c88",
   "metadata": {},
   "outputs": [],
   "source": [
    "for i in range(10, 0, -2):\n",
    "    print(i)"
   ]
  },
  {
   "cell_type": "code",
   "execution_count": null,
   "id": "c7b56b1e",
   "metadata": {},
   "outputs": [],
   "source": [
    "for i in range(7):\n",
    "    print(i)"
   ]
  },
  {
   "cell_type": "code",
   "execution_count": null,
   "id": "4edb90ab",
   "metadata": {},
   "outputs": [],
   "source": [
    "for i in range(3, 10):\n",
    "    print(i)"
   ]
  },
  {
   "cell_type": "code",
   "execution_count": null,
   "id": "ef4cefcd",
   "metadata": {},
   "outputs": [],
   "source": [
    "for i in range(3, 14, 4):\n",
    "    print(i)"
   ]
  },
  {
   "cell_type": "code",
   "execution_count": null,
   "id": "78594a18",
   "metadata": {},
   "outputs": [],
   "source": [
    "# Ranges are used for iterating over lists when you need to \n",
    "# track the index of elements while iterating.\n",
    "a_list = ['Monday', 'Tuesday', 'Wednesday', 'Thursday', 'Friday']\n",
    "\n",
    "for i in range(len(a_list)):\n",
    "    print('The value at position {} is {}.'.format(i, a_list[i]))"
   ]
  },
  {
   "cell_type": "markdown",
   "id": "382312e7",
   "metadata": {},
   "source": [
    ">>Another way to achieve the same result is by using the `enumerate` function with `a_list` as an input, which returns a tuple containing the index and the corresponding element."
   ]
  },
  {
   "cell_type": "code",
   "execution_count": null,
   "id": "246dc4f4",
   "metadata": {},
   "outputs": [],
   "source": [
    "for i, val in enumerate(a_list):\n",
    "    print('The value at position {} is {}.'.format(i, val))"
   ]
  },
  {
   "cell_type": "markdown",
   "id": "41c17374",
   "metadata": {},
   "source": [
    "### `break`, `continue` and `pass` statements\n",
    "\n",
    "Similar to `while` loops, `for` loops also support the `break` and `continue` statements. `break` is used for breaking out of the loop and `continue` is used for skipping ahead to the next iteration."
   ]
  },
  {
   "cell_type": "code",
   "execution_count": null,
   "id": "bcb62f4f",
   "metadata": {},
   "outputs": [],
   "source": [
    "weekdays = ['Monday', 'Tuesday', 'Wednesday', 'Thursday', 'Friday']\n",
    "for day in weekdays:\n",
    "    print('Today is {}'.format(day))\n",
    "    if (day == 'Wednesday'):\n",
    "        print(\"I don't work beyond Wednesday!\")\n",
    "        break"
   ]
  },
  {
   "cell_type": "code",
   "execution_count": null,
   "id": "daa828b6",
   "metadata": {},
   "outputs": [],
   "source": [
    "for day in weekdays:\n",
    "    if (day == 'Wednesday'):\n",
    "        print(\"I don't work on Wednesday!\")\n",
    "        continue\n",
    "    print('Today is {}'.format(day))"
   ]
  },
  {
   "cell_type": "markdown",
   "id": "b5febed2",
   "metadata": {},
   "source": [
    "Like `if` statements, `for` loops cannot be empty, so you can use a `pass` statement if you don't want to execute any statements inside the loop."
   ]
  },
  {
   "cell_type": "code",
   "execution_count": null,
   "id": "282719cd",
   "metadata": {},
   "outputs": [],
   "source": [
    "for day in weekdays:\n",
    "    pass"
   ]
  },
  {
   "cell_type": "markdown",
   "id": "06e21a57",
   "metadata": {},
   "source": [
    "### Nested `for` and `while` loops\n",
    "\n",
    "Similar to conditional statements, loops can be nested inside other loops. This is useful for looping lists of lists, dictionaries etc."
   ]
  },
  {
   "cell_type": "code",
   "execution_count": null,
   "id": "14a049cf",
   "metadata": {},
   "outputs": [],
   "source": [
    "persons = [{'name': 'John', 'sex': 'Male'}, {'name': 'Jane', 'sex': 'Female'}]\n",
    "\n",
    "for person in persons:\n",
    "    for key in person:\n",
    "        print(key, \":\", person[key])\n",
    "    print(\" \")"
   ]
  },
  {
   "cell_type": "code",
   "execution_count": null,
   "id": "aaad222e",
   "metadata": {},
   "outputs": [],
   "source": [
    "days = ['Monday', 'Tuesday', 'Wednesday']\n",
    "fruits = ['apple', 'banana', 'guava']\n",
    "\n",
    "for day in days:\n",
    "    for fruit in fruits:\n",
    "        print(day, fruit)"
   ]
  },
  {
   "cell_type": "markdown",
   "id": "a5a872c1",
   "metadata": {},
   "source": [
    "\n",
    "0 1 1 2 3 5 8 13 21 34 55 89"
   ]
  },
  {
   "cell_type": "code",
   "execution_count": null,
   "id": "a753034d",
   "metadata": {},
   "outputs": [],
   "source": [
    "x, y = 0, 1\n",
    "print(x)\n",
    "for i in range(0, 11):\n",
    "    x, y = y, x+y\n",
    "    print(x)"
   ]
  },
  {
   "cell_type": "code",
   "execution_count": null,
   "id": "caccd94b",
   "metadata": {},
   "outputs": [],
   "source": [
    "fact = 1;\n",
    "for i in range(1, 6):\n",
    "    fact = fact * i\n",
    "print(\"the factorial of 10 is \", fact)\n"
   ]
  },
  {
   "cell_type": "code",
   "execution_count": null,
   "id": "19524419",
   "metadata": {},
   "outputs": [],
   "source": [
    "#Factorial of 5 (5!)\n",
    "fact = 1\n",
    "for i in range(1, 6, 1):\n",
    "    fact = fact*i\n",
    "print(fact)"
   ]
  },
  {
   "cell_type": "code",
   "execution_count": 17,
   "id": "fbbe4ab4",
   "metadata": {},
   "outputs": [
    {
     "name": "stdout",
     "output_type": "stream",
     "text": [
      "       1 1 \n",
      "       2 1 \n",
      "       3 1 \n",
      "       4 1 \n",
      "       5 1 \n"
     ]
    }
   ],
   "source": [
    "for i in range(1, 6):\n",
    "    print(' ' * 6, end = ' ')\n",
    "    for j in (i, 1):\n",
    "        print(j, end = \" \")\n",
    "    print()"
   ]
  },
  {
   "cell_type": "code",
   "execution_count": null,
   "id": "22935f65",
   "metadata": {},
   "outputs": [],
   "source": [
    "#Fibonacci series of first 10 numbers (0 1 1 2 3 5 8 13 21 34 )\n",
    "a = 0\n",
    "b = 1\n",
    "for i in range(11):\n",
    "    print(\"Fibonacci series (first {} terms):{}\".format(a,a)) \n",
    "    a, b =  b, a+b"
   ]
  },
  {
   "cell_type": "code",
   "execution_count": null,
   "id": "22a49db7",
   "metadata": {},
   "outputs": [],
   "source": [
    "# Triangle Number Pattern 1-5 using for loop\n",
    "# Pattern:\n",
    "# 1\n",
    "# 1 2\n",
    "# 1 2 3\n",
    "# 1 2 3 4\n",
    "# 1 2 3 4 5\n",
    "\n",
    "print(\"Triangle Number Pattern 1-5:\")\n",
    "print()\n",
    "\n",
    "# Method 1: Basic triangle pattern\n",
    "print(\"Method 1 - Basic Triangle:\")\n",
    "for i in range(1, 6):\n",
    "    for j in range(1, i + 1):\n",
    "        print(j, end=\" \")\n",
    "    print()\n",
    "\n",
    "print()"
   ]
  },
  {
   "cell_type": "code",
   "execution_count": null,
   "id": "c86f6d69",
   "metadata": {},
   "outputs": [],
   "source": [
    "for i in range(6, 0, -1):\n",
    "    for j in range(6, 6 - i, -1):\n",
    "        print(j, end= \" \")\n",
    "    print()"
   ]
  },
  {
   "cell_type": "code",
   "execution_count": null,
   "id": "d0871c7f",
   "metadata": {},
   "outputs": [],
   "source": [
    "for i in range(6, 0, -1):\n",
    "    for j in range(0, i+1):\n",
    "        print(j, end = \" \")\n",
    "    print()\n",
    "print()"
   ]
  },
  {
   "cell_type": "code",
   "execution_count": null,
   "id": "e17bb8e2",
   "metadata": {},
   "outputs": [],
   "source": [
    "for i in range(1, 10):\n",
    "    for j in range(1, i+1):\n",
    "        print(j, end = \" \")\n",
    "    print()\n"
   ]
  },
  {
   "cell_type": "code",
   "execution_count": null,
   "id": "2aef4d05",
   "metadata": {},
   "outputs": [],
   "source": [
    "for x in range(0, 6):\n",
    "    for y in range(x-1, 0, -1):\n",
    "        print(end = \" \" + str(y))\n",
    "    print()\n"
   ]
  },
  {
   "cell_type": "code",
   "execution_count": null,
   "id": "88c298f2",
   "metadata": {},
   "outputs": [],
   "source": [
    "for i in range(1, 6):\n",
    "        # Print spaces\n",
    "        print('  ' * (6 - i), end='')\n",
    "        # Print numbers in reverse\n",
    "        for j in range(i, 0, -1):\n",
    "            print(j, end=' ')\n",
    "        for k in range(2, i+1):\n",
    "            print(k, end=' ')\n",
    "        print()"
   ]
  },
  {
   "cell_type": "markdown",
   "id": "cd35d69d",
   "metadata": {},
   "source": [
    "<center><b>End of Branching and Loops</b></center>\n",
    "<center><b>Thank you!</b></center>\n"
   ]
  },
  {
   "cell_type": "markdown",
   "id": "bb169dfc",
   "metadata": {},
   "source": [
    "## Questions for Revision\n",
    "\n",
    "Try answering the following questions to test your understanding of the topics covered in this notebook:\n",
    "\n",
    "1. What is branching in programming languages?\n",
    "2. What is the purpose of the `if` statement in Python?\n",
    "3. What is the syntax of the `if` statement? Give an example.\n",
    "4. What is indentation? Why is it used?\n",
    "5. What is an indented block of statements?\n",
    "6. How do you perform indentation in Python?\n",
    "7. What happens if some code is not indented correctly?\n",
    "8. What happens when the condition within the `if` statement evaluates to `True`? What happens if the condition evaluates for `false`?\n",
    "9. How do you check if a number is even?\n",
    "10. What is the purpose of the `else` statement in Python?\n",
    "11. What is the syntax of the `else` statement? Give an example.\n",
    "12. Write a program that prints different messages based on whether a number is positive or negative.\n",
    "13. Can the `else` statement be used without an `if` statement?\n",
    "14. What is the purpose of the `elif` statement in Python?\n",
    "15. What is the syntax of the `elif` statement? Give an example.\n",
    "16. Write a program that prints different messages for different months of the year.\n",
    "17. Write a program that uses `if`, `elif`, and `else` statements together.\n",
    "18. Can the `elif` statement be used without an `if` statement?\n",
    "19. Can the `elif` statement be used without an `else` statement?\n",
    "20. What is the difference between a chain of `if`, `elif`, `elif`… statements and a chain of `if`, `if`, `if`… statements? Give an example.\n",
    "21. Can non-boolean conditions be used with `if` statements? Give some examples.\n",
    "22. What are nested conditional statements? How are they useful?\n",
    "23. Give an example of nested conditional statements.\n",
    "24. Why is it advisable to avoid nested conditional statements?\n",
    "25. What is the shorthand `if` conditional expression? \n",
    "26. What is the syntax of the shorthand `if` conditional expression? Give an example.\n",
    "27. What is the difference between the shorthand `if` expression and the regular `if` statement?\n",
    "28. What is a statement in Python?\n",
    "29. What is an expression in Python?\n",
    "30. What is the difference between statements and expressions?\n",
    "31. Is every statement an expression? Give an example or counterexample.\n",
    "32. Is every expression a statement? Give an example or counterexample.\n",
    "33. What is the purpose of the pass statement in `if` blocks?\n",
    "34. What is iteration or looping in programming languages? Why is it useful?\n",
    "35. What are the two ways for performing iteration in Python?\n",
    "36. What is the purpose of the `while` statement in Python?\n",
    "37. What is the syntax of the `white` statement in Python? Give an example.\n",
    "38. Write a program to compute the sum of the numbers 1 to 100 using a while loop. \n",
    "39. Repeat the above program for numbers up to 1000, 10000, and 100000. How long does it take each loop to complete?\n",
    "40. What is an infinite loop?\n",
    "41. What causes a program to enter an infinite loop?\n",
    "42. How do you interrupt an infinite loop within Jupyter?\n",
    "43. What is the purpose of the `break` statement in Python? \n",
    "44. Give an example of using a `break` statement within a while loop.\n",
    "45. What is the purpose of the `continue` statement in Python?\n",
    "46. Give an example of using the `continue` statement within a while loop.\n",
    "47. What is logging? How is it useful?\n",
    "48. What is the purpose of the `for` statement in Python?\n",
    "49. What is the syntax of `for` loops? Give an example.\n",
    "50. How are for loops and while loops different?\n",
    "51. How do you loop over a string? Give an example.\n",
    "52. How do you loop over a list? Give an example.\n",
    "53. How do you loop over a tuple? Give an example.\n",
    "54. How do you loop over a dictionary? Give an example.\n",
    "55. What is the purpose of the `range` statement? Give an example.\n",
    "56. What is the purpose of the `enumerate` statement? Give an example.\n",
    "57. How are the `break`, `continue`, and `pass` statements used in for loops? Give examples.\n",
    "58. Can loops be nested within other loops? How is nesting useful?\n",
    "59. Give an example of a for loop nested within another for loop.\n",
    "60. Give an example of a while loop nested within another while loop.\n",
    "61. Give an example of a for loop nested within a while loop.\n",
    "62. Give an example of a while loop nested within a for loop.\n"
   ]
  }
 ],
 "metadata": {
  "kernelspec": {
   "display_name": "Python 3",
   "language": "python",
   "name": "python3"
  },
  "language_info": {
   "codemirror_mode": {
    "name": "ipython",
    "version": 3
   },
   "file_extension": ".py",
   "mimetype": "text/x-python",
   "name": "python",
   "nbconvert_exporter": "python",
   "pygments_lexer": "ipython3",
   "version": "3.11.3"
  }
 },
 "nbformat": 4,
 "nbformat_minor": 5
}
