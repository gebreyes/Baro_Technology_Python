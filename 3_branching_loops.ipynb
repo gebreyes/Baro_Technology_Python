{
 "cells": [
  {
   "cell_type": "markdown",
   "id": "ec6b3662",
   "metadata": {},
   "source": [
    "#### <center>`Branching and Loops`</center>\n",
    "\n",
    "![](https://i.imgur.com/7RfcHV0.png)"
   ]
  },
  {
   "cell_type": "markdown",
   "id": "8e3d99db",
   "metadata": {},
   "source": [
    "### <center><font color = \"pink\" face = \"Elephant\" > Outlines</font></center>\n",
    "\n",
    "* <font color = \"pink\" face = \"Elephant\">Branching with if, else and elif</font>\n",
    "* <font color = \"pink\" face = \"Elephant\">Nested conditions and if expressions</font>\n",
    "* <font color = \"pink\" face = \"Elephant\">Iteration with while loops</font>\n",
    "* <font color = \"pink\" face = \"Elephant\">Iterating over containers with for loops</font>\n",
    "* <font color = \"pink\" face = \"Elephant\">Nested loops, break and continue statements</font>"
   ]
  },
  {
   "cell_type": "markdown",
   "id": "1e450694",
   "metadata": {},
   "source": [
    "1. Write python program that accept five numbers from user and compute there summation and average as well as display the result to the user "
   ]
  },
  {
   "cell_type": "code",
   "execution_count": 4,
   "id": "477953f0",
   "metadata": {},
   "outputs": [
    {
     "name": "stdout",
     "output_type": "stream",
     "text": [
      "A\n"
     ]
    }
   ],
   "source": [
    "score = float(input(\"Enter the score of single subject\"))\n",
    "if 90 <= score <=100:\n",
    "    print(\"A+\")\n",
    "elif score>=85:\n",
    "    print(\"A\")\n",
    "else:\n",
    "    print(\"F\")"
   ]
  },
  {
   "cell_type": "code",
   "execution_count": 14,
   "id": "f1ca13b7",
   "metadata": {},
   "outputs": [
    {
     "name": "stdout",
     "output_type": "stream",
     "text": [
      "0\n",
      "0\n",
      "1\n",
      "1\n",
      "2\n",
      "2\n",
      "3\n",
      "3\n",
      "4\n",
      "4\n"
     ]
    }
   ],
   "source": [
    "i=1\n",
    "j = 0\n",
    "x = 0\n",
    "while i<=5:\n",
    "    while j<i:\n",
    "        print(j)\n",
    "        while x<=j:\n",
    "            print(x)\n",
    "            x+=1\n",
    "        j+=1\n",
    "    i+=1\n",
    "\n",
    "\n"
   ]
  }
 ],
 "metadata": {
  "kernelspec": {
   "display_name": "Python 3",
   "language": "python",
   "name": "python3"
  },
  "language_info": {
   "codemirror_mode": {
    "name": "ipython",
    "version": 3
   },
   "file_extension": ".py",
   "mimetype": "text/x-python",
   "name": "python",
   "nbconvert_exporter": "python",
   "pygments_lexer": "ipython3",
   "version": "3.11.3"
  }
 },
 "nbformat": 4,
 "nbformat_minor": 5
}
