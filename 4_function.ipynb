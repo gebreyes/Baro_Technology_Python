{
 "cells": [
  {
   "cell_type": "markdown",
   "id": "989a3b7b",
   "metadata": {},
   "source": [
    "### **`Functions in Python`**"
   ]
  },
  {
   "cell_type": "markdown",
   "id": "a8650c0a",
   "metadata": {},
   "source": [
    "#### `Creating and using function`\n",
    "\n",
    "><font face = \"cambria\">\n",
    "A function is a reusable set of instructions. A function takes one or more inputs, performs certain operations, and often returns an output. Python provides many in-built functions like `print`, and also allows you to define your own functions.\n",
    "\n",
    "You can define a new function using the `def` keyword."
   ]
  },
  {
   "cell_type": "code",
   "execution_count": null,
   "id": "14c0ee33",
   "metadata": {},
   "outputs": [],
   "source": [
    "def yes(): #this is the syntax to define function\n",
    "    print(\"Welcome to function class in python\")\n",
    "  "
   ]
  },
  {
   "cell_type": "code",
   "execution_count": null,
   "id": "88780d66",
   "metadata": {},
   "outputs": [],
   "source": [
    "def add(a,b):\n",
    "    return a + b\n",
    "    #print(\"the summation of two numbers {} and {} is ={}\".format(a, b, sum))\n"
   ]
  },
  {
   "cell_type": "code",
   "execution_count": null,
   "id": "fa185427",
   "metadata": {},
   "outputs": [],
   "source": [
    "x, y = 5, 6\n",
    "add(x, y)"
   ]
  },
  {
   "cell_type": "code",
   "execution_count": null,
   "id": "9b20b011",
   "metadata": {},
   "outputs": [],
   "source": [
    "def add(x, y):\n",
    "    return x + y\n",
    "def sub(x, y):\n",
    "    return x-y\n",
    "\n"
   ]
  },
  {
   "cell_type": "code",
   "execution_count": null,
   "id": "fda7e8be",
   "metadata": {},
   "outputs": [],
   "source": [
    "yes()"
   ]
  },
  {
   "cell_type": "code",
   "execution_count": null,
   "id": "1a534bfb",
   "metadata": {},
   "outputs": [],
   "source": [
    "def say_hello():\n",
    "    print('Hello there!')\n",
    "    print('How are you?')"
   ]
  },
  {
   "cell_type": "markdown",
   "id": "601ebeb3",
   "metadata": {},
   "source": [
    "<font face = \"cambria\">Note the round brackets or parantheses `()` and colon `:` after the function's name. Both are essential parts of the syntax for defining a function. The *body* of the function can contain one or more statements which are to be executed when the function is called. Simlar to conditional statements and loops, the statements must be indented by 4 spaces.\n",
    "\n",
    ">>The statements inside a function's body are not executed when a function is defined. To execute the statements, we need to *call* or *invoke* the function."
   ]
  },
  {
   "cell_type": "code",
   "execution_count": null,
   "id": "baf29f69",
   "metadata": {},
   "outputs": [],
   "source": [
    "say_hello()"
   ]
  },
  {
   "cell_type": "code",
   "execution_count": null,
   "id": "42afd748",
   "metadata": {},
   "outputs": [],
   "source": [
    "def add(a,b):\n",
    "    return a+b\n",
    "def pro(a, b):\n",
    "    return a*b\n",
    "def sub(a,b):\n",
    "    return a-b\n",
    "def div(a, b):\n",
    "    return a/b\n",
    "def mod(a,b):\n",
    "    return a%b\n",
    "def expo(a, b):\n",
    "    return a**b\n",
    "print(\"The summation of the number is \",add(3,4))"
   ]
  },
  {
   "cell_type": "markdown",
   "id": "f9b971e9",
   "metadata": {},
   "source": [
    "### `Function arguments`\n",
    "\n",
    "<font face = \"cambria\">Functions can also accept one or more values as *inputs* (also knows as *arguments* or *parameters*). Arguments help us write flexible functions which can perform the same operation on different values. Further, functions can also return a value as a result using the `return` keyword, which can be stored in a variable or used in other expressions.\n",
    "\n",
    "Here's a function that filters out the even numbers from a list."
   ]
  },
  {
   "cell_type": "code",
   "execution_count": null,
   "id": "614b31bd",
   "metadata": {},
   "outputs": [],
   "source": [
    "def filter_even(number_list):\n",
    "    result_list = []\n",
    "    for number in number_list:\n",
    "        if number % 2 == 0:\n",
    "            result_list.append(number)\n",
    "    return result_list"
   ]
  },
  {
   "cell_type": "code",
   "execution_count": null,
   "id": "e3027482",
   "metadata": {},
   "outputs": [],
   "source": [
    "\n",
    "x,y,z = 1,2,3\n",
    "print(max(x,y,z))\n",
    "print(min(x,y,z))"
   ]
  },
  {
   "cell_type": "markdown",
   "id": "52fec2ef",
   "metadata": {},
   "source": [
    "## `Writing great functions in Python`\n",
    "\n",
    "<font face= \"cambria\" color = \"pink\">As a programmer, you will spend most of your time writing and using functions, and Python offers many features to make your functions powerful and flexible. Let's explore some of these by solving a problem:\n",
    "\n",
    "> Emahus is planning to buy a house that costs `$1,260,000`. He considering two options to finance his purchase:\n",
    ">\n",
    "> * Option 1: Make an immediate down payment of `$300,000`, and take loan 8-year loan with an interest rate of 10% (compounded monthly) for the remaining amount.\n",
    "> * Option 2: Take a 10-year loan with an interest rate of 8% (compounded monthly) for the entire amount.\n",
    ">\n",
    "> Both these loans have to paid back in equal monthly installments (EMIs). Which loan has a lower EMI among the two?\n",
    "\n",
    "\n",
    "Since we need to compare the EMIs for two loan options, it might be helpful to define a function to calculate the EMI for a loan, given inputs like the cost of the house, the down payment, duration of the loan, rate of interest etc. We'll build this function step by step.\n",
    "\n",
    "To begin, let's write a simple function that calculates the EMI on the entire cost of the house, assuming that the loan has to be paid back in one year, and there is no interest or down payment."
   ]
  },
  {
   "cell_type": "code",
   "execution_count": null,
   "id": "0910478c",
   "metadata": {},
   "outputs": [],
   "source": [
    "def loan_emi(amount):\n",
    "    emi = amount / 12\n",
    "    return emi\n",
    "    #print('The EMI is ${}'.format(emi))"
   ]
  },
  {
   "cell_type": "code",
   "execution_count": null,
   "id": "e6411226",
   "metadata": {},
   "outputs": [],
   "source": [
    "loan_emi(126000)\n"
   ]
  },
  {
   "cell_type": "markdown",
   "id": "a49efff5",
   "metadata": {},
   "source": [
    "### Local variables and scope\n",
    "\n",
    "<font face = \"cambria\" color = \"#D10EA4\">\n",
    "Let's add a second argument to account for the duration of the loan, in months."
   ]
  },
  {
   "cell_type": "code",
   "execution_count": null,
   "id": "fa4daa7f",
   "metadata": {},
   "outputs": [],
   "source": []
  }
 ],
 "metadata": {
  "kernelspec": {
   "display_name": "Python 3",
   "language": "python",
   "name": "python3"
  },
  "language_info": {
   "codemirror_mode": {
    "name": "ipython",
    "version": 3
   },
   "file_extension": ".py",
   "mimetype": "text/x-python",
   "name": "python",
   "nbconvert_exporter": "python",
   "pygments_lexer": "ipython3",
   "version": "3.11.3"
  }
 },
 "nbformat": 4,
 "nbformat_minor": 5
}
