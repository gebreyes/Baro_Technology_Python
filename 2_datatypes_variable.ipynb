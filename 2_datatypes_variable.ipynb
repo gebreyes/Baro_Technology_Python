{
 "cells": [
  {
   "cell_type": "markdown",
   "id": "b3c0cb5c",
   "metadata": {},
   "source": [
    "### **`A Quick Tour of Variables and Data Types in Python`**\n",
    "\n",
    "![](https://i.imgur.com/6cg2E9Q.png)\n",
    "\n",
    "\n",
    "\n",
    "This tutorial series is a beginner-friendly introduction to programming and data analysis using the Python programming language. These tutorials take a practical and coding-focused approach. The best way to learn the material is to execute the code and experiment with it yourself. \n"
   ]
  },
  {
   "cell_type": "markdown",
   "id": "a27b0c9e",
   "metadata": {},
   "source": [
    "## Storing information using variables\n",
    "\n",
    ">Computers are useful for two purposes: storing information (also known as data) and performing operations on stored data. While working with a programming language such as Python, data is stored in variables. You can think of variables are containers for storing data. The data stored within a variable is called its value. Creating variables in Python is pretty easy.\n"
   ]
  },
  {
   "cell_type": "code",
   "execution_count": null,
   "id": "a472a430",
   "metadata": {},
   "outputs": [],
   "source": [
    "my_favorite_color = \"blue\""
   ]
  },
  {
   "cell_type": "code",
   "execution_count": null,
   "id": "f7657fe5",
   "metadata": {},
   "outputs": [],
   "source": [
    "x = 2"
   ]
  },
  {
   "cell_type": "markdown",
   "id": "f447716d",
   "metadata": {},
   "source": [
    "Write a python program that store 12 and 45 in two variables and perform different arthimetic operations(add, sub, div, product, floor division, remainder and power)"
   ]
  },
  {
   "cell_type": "code",
   "execution_count": null,
   "id": "9d0a08cc",
   "metadata": {},
   "outputs": [],
   "source": [
    "num1 = float(input(\"Enter the first number\"))\n",
    "num2 = float(input(\"Enter the second number\"))\n",
    "sum = num1 + num2\n",
    "print(type(num1))\n",
    "print(type(num2))\n",
    "print(\"summation of two number: \", sum)"
   ]
  },
  {
   "cell_type": "markdown",
   "id": "3e9851d5",
   "metadata": {},
   "source": [
    ">>>Modify the above program by accepting `two`  `floating point` value and perform different arthimetic operations "
   ]
  },
  {
   "cell_type": "code",
   "execution_count": null,
   "id": "d95933d9",
   "metadata": {},
   "outputs": [],
   "source": [
    "num1=float(input(\"Enter the first number: \"))\n",
    "num2=float(input(\"Enter the second number: \"))\n",
    "print(num1+num2)\n",
    "print(type(num1))\n",
    "#print(num1-num2)\n",
    "#print(num1*num2)\n",
    "#print(num1//num2)\n",
    "#print(num1**num2)\n",
    "\n",
    "\n",
    "\n"
   ]
  },
  {
   "cell_type": "markdown",
   "id": "90c9b5f4",
   "metadata": {},
   "source": [
    ">>A variable is created using an assignment statement. It begins with the variable's name, followed by the assignment operator `=` followed by the value to be stored within the variable.  Note that the assignment operator `=` is different from the equality comparison operator `==`.\n",
    "\n",
    "You can also assign values to multiple variables in a single statement by separating the variable names and values with commas."
   ]
  },
  {
   "cell_type": "code",
   "execution_count": null,
   "id": "67cec59f",
   "metadata": {},
   "outputs": [],
   "source": [
    "color1, color2, color3 = \"red\", \"green\", \"blue\""
   ]
  },
  {
   "cell_type": "markdown",
   "id": "c98b1f26",
   "metadata": {},
   "source": [
    ">>>You can assign the same value to multiple variables by chaining multiple assignment operations within a single statement."
   ]
  },
  {
   "cell_type": "code",
   "execution_count": null,
   "id": "e9adf71f",
   "metadata": {},
   "outputs": [],
   "source": [
    "color1, color2, color3 = \"red\""
   ]
  },
  {
   "cell_type": "markdown",
   "id": "3138b43b",
   "metadata": {},
   "source": [
    ">You can change the value stored within a variable by assigning a new value to it using another assignment statement. Be careful while reassigning variables: when you assign a new value to the variable, the old value is lost and no longer accessible."
   ]
  },
  {
   "cell_type": "code",
   "execution_count": null,
   "id": "ef47578f",
   "metadata": {},
   "outputs": [],
   "source": [
    "my_favorite_color = \"red\""
   ]
  },
  {
   "cell_type": "markdown",
   "id": "572376a3",
   "metadata": {},
   "source": [
    "While reassigning a variable, you can also use the variable's previous value to compute the new value."
   ]
  },
  {
   "cell_type": "code",
   "execution_count": null,
   "id": "7d0d17db",
   "metadata": {},
   "outputs": [],
   "source": [
    "counter = 10"
   ]
  },
  {
   "cell_type": "code",
   "execution_count": null,
   "id": "52ff83a8",
   "metadata": {},
   "outputs": [],
   "source": [
    "counter = counter + 1"
   ]
  },
  {
   "cell_type": "code",
   "execution_count": null,
   "id": "973f974c",
   "metadata": {},
   "outputs": [],
   "source": [
    "counter"
   ]
  },
  {
   "cell_type": "markdown",
   "id": "74470a7d",
   "metadata": {},
   "source": [
    ">>The pattern `var = var op something` (where `op` is an arithmetic operator like `+`, `-`, `*`, `/`) is very common, so Python provides a *shorthand* syntax for it."
   ]
  },
  {
   "cell_type": "code",
   "execution_count": null,
   "id": "6107b9dd",
   "metadata": {},
   "outputs": [],
   "source": [
    "# Same as `counter = counter + 4`\n",
    "counter += 4"
   ]
  },
  {
   "cell_type": "markdown",
   "id": "25c7f4cb",
   "metadata": {},
   "source": [
    "Variable names can be short (`a`, `x`, `y`, etc.) or descriptive ( `my_favorite_color`, `profit_margin`, `the_3_musketeers`, etc.). However, you must follow these rules while naming Python variables:\n",
    "\n",
    "* A variable's name must start with a letter or the underscore character `_`. It cannot begin with a number.\n",
    "* A variable name can only contain lowercase (small) or uppercase (capital) letters, digits, or underscores (`a`-`z`, `A`-`Z`, `0`-`9`, and `_`).\n",
    "* Variable names are case-sensitive, i.e., `a_variable`, `A_Variable`, and `A_VARIABLE` are all different variables.\n",
    "\n",
    "Here are some valid variable names:"
   ]
  },
  {
   "cell_type": "code",
   "execution_count": null,
   "id": "6af85de9",
   "metadata": {},
   "outputs": [],
   "source": [
    "\"\"\"a variable = 23\n",
    "is_today_$aturday = False\n",
    "my-favorite_car = \"Delorean\"\n",
    "3_musketeers = [\"Athos\", \"Porthos\", \"Aramis\"]\"\"\" "
   ]
  },
  {
   "cell_type": "markdown",
   "id": "bf9e2411",
   "metadata": {},
   "source": [
    "Let's try creating some variables with invalid names. Python prints a syntax error if your variable's name is invalid.\n",
    "\n",
    "> **Syntax**: The syntax of a programming language refers to the rules that govern the structure of a valid instruction or *statement*. If a statement does not follow these rules, Python stops execution and informs you that there is a *syntax error*. You can think of syntax as the rules of grammar for a programming language."
   ]
  },
  {
   "cell_type": "code",
   "execution_count": null,
   "id": "84e15033",
   "metadata": {},
   "outputs": [],
   "source": [
    "a_variable = 23\n",
    "is_today_Saturday = True\n",
    "my_favorite_car = \"Delorean\"\n",
    "the_3_musketeers = [\"Athos\", \"Porthos\", \"Aramis\"]\n",
    "print(the_3_musketeers[1])"
   ]
  },
  {
   "cell_type": "code",
   "execution_count": null,
   "id": "11550948",
   "metadata": {},
   "outputs": [],
   "source": [
    "x = 3\n",
    "if x != 3:\n",
    "    pass\n",
    "else:\n",
    "    print(\"the number is not something\")"
   ]
  },
  {
   "cell_type": "markdown",
   "id": "bd54d632",
   "metadata": {},
   "source": [
    "## Built-in data types in Python\n",
    "\n",
    "Any data or information stored within a Python variable has a *type*. You can view the type of data stored within a variable using the `type` function."
   ]
  },
  {
   "cell_type": "code",
   "execution_count": null,
   "id": "9db25210",
   "metadata": {},
   "outputs": [],
   "source": []
  },
  {
   "cell_type": "code",
   "execution_count": null,
   "id": "d9c80f88",
   "metadata": {},
   "outputs": [],
   "source": [
    "print(type(a_variable))\n",
    "print(type(is_today_Saturday))\n",
    "print(type(my_favorite_car))\n",
    "print(type(the_3_musketeers)) "
   ]
  },
  {
   "cell_type": "markdown",
   "id": "886e983b",
   "metadata": {},
   "source": [
    "Python has several built-in data types for storing different kinds of information in variables. Following are some commonly used data types:\n",
    "\n",
    "1. Integer\n",
    "2. Float\n",
    "3. Boolean\n",
    "4. None\n",
    "5. String\n",
    "6. List\n",
    "7. Tuple\n",
    "8. Dictionary\n",
    "\n",
    "Integer, float, boolean, None, and string are *primitive data types* because they represent a single value. Other data types like list, tuple, and dictionary are often called *data structures* or *containers* because they hold multiple pieces of data together."
   ]
  },
  {
   "cell_type": "markdown",
   "id": "57a4dfc3",
   "metadata": {},
   "source": [
    "### `Integer`\n",
    "\n",
    "Integers represent positive or negative whole numbers, from negative infinity to infinity. Note that integers should not include decimal points. Integers have the type `int`."
   ]
  },
  {
   "cell_type": "markdown",
   "id": "2f8144e8",
   "metadata": {},
   "source": [
    "Unlike some other programming languages, integers in Python can be arbitrarily large (or small). There's no lowest or highest value for integers, and there's just one `int` type (as opposed to `short`, `int`, `long`, `long long`, `unsigned int`, etc. in C/C++/Java)."
   ]
  },
  {
   "cell_type": "markdown",
   "id": "a942152c",
   "metadata": {},
   "source": [
    "### `Float`\n",
    "\n",
    "Floats (or floating-point numbers) are numbers with a decimal point. There are no limits on the value or the number of digits before or after the decimal point. Floating-point numbers have the type `float`."
   ]
  },
  {
   "cell_type": "markdown",
   "id": "ba8e0fcf",
   "metadata": {},
   "source": [
    "Floating point numbers can also be written using the scientific notation with an \"e\" to indicate the power of 10."
   ]
  },
  {
   "cell_type": "code",
   "execution_count": null,
   "id": "76f8c117",
   "metadata": {},
   "outputs": [],
   "source": [
    "one_hundredth = 1e-2"
   ]
  },
  {
   "cell_type": "code",
   "execution_count": null,
   "id": "e08f3180",
   "metadata": {},
   "outputs": [],
   "source": [
    "one_hundredth"
   ]
  },
  {
   "cell_type": "code",
   "execution_count": null,
   "id": "5ef706d3",
   "metadata": {},
   "outputs": [],
   "source": [
    "type(one_hundredth)"
   ]
  },
  {
   "cell_type": "code",
   "execution_count": null,
   "id": "9b6e55da",
   "metadata": {},
   "outputs": [],
   "source": [
    "avogadro_number = 6.02214076e23"
   ]
  },
  {
   "cell_type": "code",
   "execution_count": null,
   "id": "9c8d17b7",
   "metadata": {},
   "outputs": [],
   "source": [
    "avogadro_number"
   ]
  },
  {
   "cell_type": "markdown",
   "id": "2cb5583b",
   "metadata": {},
   "source": [
    "While performing arithmetic operations, integers are automatically converted to `float`s if any of the operands is a `float`. Also, the division operator `/` always returns a `float`, even if both operands are integers. Use the `//` operator if you want the result of the division to be an `int`."
   ]
  },
  {
   "cell_type": "code",
   "execution_count": null,
   "id": "3aa10b43",
   "metadata": {},
   "outputs": [],
   "source": [
    "type(45 * 3.0)"
   ]
  },
  {
   "cell_type": "code",
   "execution_count": null,
   "id": "21ddc331",
   "metadata": {},
   "outputs": [],
   "source": [
    "type(10//2)"
   ]
  },
  {
   "cell_type": "code",
   "execution_count": null,
   "id": "f3ba3700",
   "metadata": {},
   "outputs": [],
   "source": [
    "type(10/2)"
   ]
  },
  {
   "cell_type": "markdown",
   "id": "5133c0c4",
   "metadata": {},
   "source": [
    "### `Boolean`\n",
    "\n",
    "Booleans represent one of 2 values: `True` and `False`. Booleans have the type `bool`."
   ]
  },
  {
   "cell_type": "markdown",
   "id": "b39deb6c",
   "metadata": {},
   "source": [
    "Any value in Python can be converted to a Boolean using the `bool` function. \n",
    "\n",
    "Only the following values evaluate to `False` (they are often called *falsy* values):\n",
    "\n",
    "1. The value `False` itself\n",
    "2. The integer `0`\n",
    "3. The float `0.0`\n",
    "4. The empty value `None`\n",
    "5. The empty text `\"\"`\n",
    "6. The empty list `[]`\n",
    "7. The empty tuple `()`\n",
    "8. The empty dictionary `{}`\n",
    "9. The empty set `set()`\n",
    "10. The empty range `range(0)`\n",
    "\n",
    "Everything else evaluates to `True` (a value that evaluates to `True` is often called a *truthy* value)."
   ]
  },
  {
   "cell_type": "code",
   "execution_count": null,
   "id": "c682a447",
   "metadata": {},
   "outputs": [],
   "source": [
    "bool(False)\n",
    "bool(0)\n",
    "bool(0.0)\n",
    "bool(None)\n",
    "bool(\"\")\n",
    "bool([])\n",
    "bool(())\n",
    "bool({})\n",
    "bool(set())\n",
    "bool(range(0))"
   ]
  },
  {
   "cell_type": "markdown",
   "id": "d4ab99c0",
   "metadata": {},
   "source": [
    "### `None`\n",
    "\n",
    "The None type includes a single value `None`, used to indicate the absence of a value. `None` has the type `NoneType`. It is often used to declare a variable whose value may be assigned later."
   ]
  },
  {
   "cell_type": "code",
   "execution_count": null,
   "id": "25bebecd",
   "metadata": {},
   "outputs": [],
   "source": [
    "nothing = None"
   ]
  },
  {
   "cell_type": "code",
   "execution_count": null,
   "id": "624dd3ec",
   "metadata": {},
   "outputs": [],
   "source": [
    "type(nothing)"
   ]
  },
  {
   "cell_type": "markdown",
   "id": "62d648b8",
   "metadata": {},
   "source": [
    "### `String`\n",
    "\n",
    "A string is used to represent text (*a string of characters*) in Python. Strings must be surrounded using quotations (either the single quote `'` or the double quote `\"`). Strings have the type `string`."
   ]
  },
  {
   "cell_type": "code",
   "execution_count": null,
   "id": "833a78bb",
   "metadata": {},
   "outputs": [],
   "source": [
    "today = \"Saturday\""
   ]
  },
  {
   "cell_type": "code",
   "execution_count": null,
   "id": "a1422abb",
   "metadata": {},
   "outputs": [],
   "source": [
    "type(today)"
   ]
  },
  {
   "cell_type": "markdown",
   "id": "f778c75e",
   "metadata": {},
   "source": [
    "* You can use single quotes inside a string written with double quotes, and vice versa.\n",
    "* To use a double quote within a string written with double quotes, *escape* the inner quotes by prefixing them with the `\\` character."
   ]
  },
  {
   "cell_type": "code",
   "execution_count": null,
   "id": "556e9d65",
   "metadata": {},
   "outputs": [],
   "source": [
    "my_favorite_movie = \"One Flew over the Cuckoo's Nest\" \n",
    "my_favorite_pun = 'Thanks for explaining the word \"many\" to me, it means a lot.'\n",
    "another_pun = \"The first time I got a universal remote control, I thought to myself \\\"This changes everything\\\".\""
   ]
  },
  {
   "cell_type": "markdown",
   "id": "9f221665",
   "metadata": {},
   "source": [
    ">You can check the length of a string using the len function.\n",
    ">Note that special characters like \\n and escaped characters like \\\" count as a single character, even though they are written and sometimes printed as two characters.\n"
   ]
  },
  {
   "cell_type": "code",
   "execution_count": null,
   "id": "16387f76",
   "metadata": {},
   "outputs": [],
   "source": [
    "len(\"Python\\nprogramming\")"
   ]
  },
  {
   "cell_type": "markdown",
   "id": "a5c6c07d",
   "metadata": {},
   "source": [
    "1. You can access individual characters within a string using the [] indexing notation. Note the character indices go from 0 to n-1, where n is the length of the string.\n",
    "2. You can access a part of a string using by providing a `start:end` range instead of a single index in [].\n",
    "3. You can also check whether a string contains a some text using the `in` operator.\n",
    "4. Two or more strings can be joined or concatenated using the + operator. Be careful while concatenating strings, sometimes you may need to add a space character \" \" between words."
   ]
  },
  {
   "cell_type": "code",
   "execution_count": null,
   "id": "fc1d14ea",
   "metadata": {},
   "outputs": [],
   "source": [
    "today = \"Saturday\""
   ]
  },
  {
   "cell_type": "code",
   "execution_count": null,
   "id": "83b6f485",
   "metadata": {},
   "outputs": [],
   "source": [
    "today[2]"
   ]
  },
  {
   "cell_type": "code",
   "execution_count": null,
   "id": "d245ae9c",
   "metadata": {},
   "outputs": [],
   "source": [
    "today[5:8]"
   ]
  },
  {
   "cell_type": "code",
   "execution_count": null,
   "id": "957604e3",
   "metadata": {},
   "outputs": [],
   "source": [
    "'to' in today"
   ]
  },
  {
   "cell_type": "code",
   "execution_count": null,
   "id": "29268f4d",
   "metadata": {},
   "outputs": [],
   "source": [
    "full_name = \"Isak Ibrahim\"\n",
    "greeting = \"Hello, \" + full_name + \"!\""
   ]
  },
  {
   "cell_type": "markdown",
   "id": "74924cdb",
   "metadata": {},
   "source": [
    "* Strings in Python have many built-in methods that are used to manipulate them. Let's try out some common string methods.\n",
    "\n",
    "> **Methods**: Methods are functions associated with data types and are accessed using the `.` notation e.g. `variable_name.method()` or `\"a string\".method()`. Methods are a powerful technique for associating common operations with values of specific data types.\n",
    "\n",
    "The `.lower()`, `.upper()` and `.capitalize()` methods are used to change the case of the characters."
   ]
  },
  {
   "cell_type": "code",
   "execution_count": null,
   "id": "c5fed5a4",
   "metadata": {},
   "outputs": [],
   "source": [
    "print(today.lower()) # change the all letters into small letters\n",
    "print(today.upper()) # change the all letters into uppercase letters\n",
    "print(today.capitalize()) # change the first letter into capital letter"
   ]
  },
  {
   "cell_type": "markdown",
   "id": "1cb64eff",
   "metadata": {},
   "source": [
    ">The `.replace` method replaces a part of the string with another string. It takes the portion to be replaced and the replacement text as *inputs* or *arguments*."
   ]
  },
  {
   "cell_type": "code",
   "execution_count": null,
   "id": "8517af2b",
   "metadata": {},
   "outputs": [],
   "source": [
    "another_day = today.replace(\"Satur\",\"sun\")"
   ]
  },
  {
   "cell_type": "code",
   "execution_count": null,
   "id": "05065fb4",
   "metadata": {},
   "outputs": [],
   "source": [
    "another_day"
   ]
  },
  {
   "cell_type": "code",
   "execution_count": null,
   "id": "e540c16f",
   "metadata": {},
   "outputs": [],
   "source": [
    "another_day"
   ]
  },
  {
   "cell_type": "markdown",
   "id": "d4e042bb",
   "metadata": {},
   "source": [
    ">The `.format` method combines values of other data types, e.g., integers, floats, booleans, lists, etc. with strings. You can use `format` to construct output messages for display."
   ]
  },
  {
   "cell_type": "markdown",
   "id": "81ba8e7c",
   "metadata": {},
   "source": [
    "### `List`\n",
    "\n",
    "* An ordered, mutable (changeable) collection of items. Items can be of any type and duplicates are allowed.\n",
    "\n",
    "* `Syntax: my_list = [item1, item2, item3]`\n",
    "1. `When to use:` \n",
    "* When you need to store a sequence of items that may change (add, remove, or modify items).\n",
    "1. `Real-world example:`\n",
    "A list of students in a classroom.\n",
    "* A list in Python is an ordered collection of values. Lists can hold values of different data types and support operations to add, remove, and change values. Lists have the type `list`.\n",
    "\n",
    "To create a list, enclose a sequence of values within square brackets `[` and `]`, separated by commas."
   ]
  },
  {
   "cell_type": "markdown",
   "id": "4a5f70d2",
   "metadata": {},
   "source": [
    ">>Let's try creating a list containing values of different data types, including another list."
   ]
  },
  {
   "cell_type": "markdown",
   "id": "95470b1b",
   "metadata": {},
   "source": [
    " ### `Applicable for:`\n",
    "* To-do lists\n",
    "* Collections of objects that may change\n",
    "* Iterating over items in order"
   ]
  },
  {
   "cell_type": "code",
   "execution_count": null,
   "id": "4bcdd9b4",
   "metadata": {},
   "outputs": [],
   "source": [
    "fruits = ['apple', 'banana', 'cherry']"
   ]
  },
  {
   "cell_type": "code",
   "execution_count": null,
   "id": "e77f5b9f",
   "metadata": {},
   "outputs": [],
   "source": [
    "a_list = [23, 'hello', None, 3.14, fruits, 3 <= 5]\n",
    "empty_list = []\n"
   ]
  },
  {
   "cell_type": "code",
   "execution_count": null,
   "id": "64dc6ac0",
   "metadata": {},
   "outputs": [],
   "source": [
    "a_list"
   ]
  },
  {
   "cell_type": "markdown",
   "id": "4b7f2cdb",
   "metadata": {},
   "source": [
    ">> To determine the number of values in a list, use the `len` function. You can use `len`  to determine the number of values in several other data types.\n",
    "> \n",
    "You can access an element from the list using its *index*, e.g., `fruits[2]` returns the element at index 2 within the list `fruits`. The starting index of a list is 0."
   ]
  },
  {
   "cell_type": "markdown",
   "id": "1c883324",
   "metadata": {},
   "source": [
    ">>You can use negative indices to access elements from the end of a list, e.g., `fruits[-1]` returns the last element, `fruits[-2]` returns the second last element, and so on."
   ]
  },
  {
   "cell_type": "code",
   "execution_count": null,
   "id": "9b2ec968",
   "metadata": {},
   "outputs": [],
   "source": [
    "len(empty_list)\n",
    "fruits[1]\n",
    "fruits[-3]"
   ]
  },
  {
   "cell_type": "code",
   "execution_count": null,
   "id": "7ddee8b1",
   "metadata": {},
   "outputs": [],
   "source": [
    "names = [\"moses\", \"eve\", \"isak\", \"Ibrahim\", \"Jacob\", \"adem\", 1,3,7,10]"
   ]
  },
  {
   "cell_type": "code",
   "execution_count": null,
   "id": "f95f9ff6",
   "metadata": {},
   "outputs": [],
   "source": [
    "names[:-7]"
   ]
  },
  {
   "cell_type": "markdown",
   "id": "063895d0",
   "metadata": {},
   "source": [
    "* A new value can be added to the end of a list using the `append` method.\n",
    "* A new value can also be inserted at a specific index using the `insert` method.\n",
    "* You can remove a value from a list using the `remove` method.\n",
    "* >What happens if a list has multiple instances of the value passed to `.remove`? Try it out.\n",
    "* To remove an element from a specific index, use the `pop` method. The method also returns the removed element.\n",
    "* If no index is provided, the `pop` method removes the last element of the list.\n",
    "* You can test whether a list contains a value using the `in` operator.\n",
    "* To combine two or more lists, use the `+` operator. This operation is also called *concatenation*.\n",
    "* To create a copy of a list, use the `copy` method. Modifying the copied list does not affect the original.\n"
   ]
  },
  {
   "cell_type": "code",
   "execution_count": null,
   "id": "ec365204",
   "metadata": {},
   "outputs": [],
   "source": [
    "names.append('dates')\n",
    "names.insert(1, 'banana')\n",
    "names.remove('isak')\n",
    "names.pop(1)\n",
    "names.pop()\n",
    "'pineapple' in names\n",
    "more_fruits = names + ['pineapple', 'tomato', 'guava'] + ['dates', 'banana']\n",
    "more_fruits_copy = more_fruits.copy()"
   ]
  },
  {
   "cell_type": "code",
   "execution_count": null,
   "id": "f57290d9",
   "metadata": {},
   "outputs": [],
   "source": [
    "more_fruits_copy"
   ]
  },
  {
   "cell_type": "code",
   "execution_count": null,
   "id": "02ab909d",
   "metadata": {},
   "outputs": [],
   "source": [
    "# Reverse the order of elements in a list\n",
    "my_list = [1, 2, 3, 4, 5]\n",
    "my_list.reverse()\n",
    "print(my_list)  # Output: [5, 4, 3, 2, 1]\n",
    "# or\n",
    "my_list = [1, 2, 3, 4, 5]\n",
    "reversed_list = my_list[::-1]\n",
    "print(reversed_list)  # Output: [5, 4, 3, 2, 1]"
   ]
  },
  {
   "cell_type": "code",
   "execution_count": null,
   "id": "b534b94b",
   "metadata": {},
   "outputs": [],
   "source": [
    "  # Add the elements of one list at the end of another list\n",
    "list1 = [1, 2, 3]\n",
    "list2 = [4, 5, 6]\n",
    "list1.extend(list2)\n",
    "print(list1)  # Output: [1, 2, 3, 4, 5, 6]\n",
    "       #Or, using the + operator (creates a new list):\n",
    "list1 = [1, 2, 3]\n",
    "list2 = [4, 5, 6]\n",
    "combined = list1 + list2\n",
    "print(combined)  # Output: [1, 2, 3, 4, 5, 6]"
   ]
  },
  {
   "cell_type": "code",
   "execution_count": null,
   "id": "d54b2b78",
   "metadata": {},
   "outputs": [],
   "source": [
    "# Sort a list of strings in alphabetical order\n",
    "words = [\"banana\", \"apple\", \"cherry\"]\n",
    "words.sort()\n",
    "print(words)  # Output: ['apple', 'banana', 'cherry']\n",
    "#  Or, to create a new sorted list:\n",
    "words = [\"banana\", \"apple\", \"cherry\"]\n",
    "sorted_words = sorted(words)\n",
    "print(sorted_words)  # Output: ['apple', 'banana', 'cherry']"
   ]
  },
  {
   "cell_type": "code",
   "execution_count": null,
   "id": "2740a0a3",
   "metadata": {},
   "outputs": [],
   "source": [
    "             # Sort a list of numbers in decreasing order\n",
    "numbers = [3, 1, 4, 2, 5]\n",
    "numbers.sort(reverse=True)\n",
    "print(numbers)  # Output: [5, 4, 3, 2, 1]\n",
    "             #Or, to create a new sorted list:\n",
    "numbers = [3, 1, 4, 2, 5]\n",
    "sorted_numbers = sorted(numbers, reverse=True)\n",
    "print(sorted_numbers)  # Output: [5, 4, 3, 2, 1]"
   ]
  },
  {
   "cell_type": "markdown",
   "id": "a5f4482e",
   "metadata": {},
   "source": [
    "### `Tuple`\n",
    "\n",
    "A tuple is an ordered collection of values, similar to a list. However, it is not possible to add, remove, or modify values in a tuple. A tuple is created by enclosing values within parentheses `(` and `)`, separated by commas.\n",
    "\n",
    "> Any data structure that cannot be modified after creation is called *immutable*. You can think of tuples as immutable lists.\n",
    "* `Syntax: my_tuple = (item1, item2, item3)`\n",
    "\n",
    "Let's try some experiments with tuples."
   ]
  },
  {
   "cell_type": "markdown",
   "id": "9cd220a8",
   "metadata": {},
   "source": [
    "Real-world example:\n",
    "`Storing the latitude and longitude of a location.`"
   ]
  },
  {
   "cell_type": "code",
   "execution_count": null,
   "id": "1ccf7eba",
   "metadata": {},
   "outputs": [],
   "source": [
    "location = (9.0054, \"N\", 38.7636 ,\"E\")  # Addis ababa City coordinates\n",
    "# location[0] = 41.0  # This will raise an error because tuples are immutable\n",
    "print(location)  # (40.7128, -74.0060)"
   ]
  },
  {
   "cell_type": "markdown",
   "id": "dc09cf6a",
   "metadata": {},
   "source": [
    "### `Applicable for:`\n",
    "1. Coordinates (latitude, longitude)\n",
    "2. RGB color values\n",
    "3. Data that should not be modified"
   ]
  },
  {
   "cell_type": "code",
   "execution_count": null,
   "id": "85731c79",
   "metadata": {},
   "outputs": [],
   "source": [
    "\"\"\" 1. count(): Returns the number of times a specified value appears in the tuple.\n",
    "Example:\"\"\"\n",
    "my_tuple = (1, 2, 3, 2, 4, 2)\n",
    "print(my_tuple.count(2))  # Output: 3"
   ]
  },
  {
   "cell_type": "code",
   "execution_count": null,
   "id": "f5c9bd16",
   "metadata": {},
   "outputs": [],
   "source": [
    "\"\"\"2. index(): Returns the index (position) of the first occurrence of the specified value in the tuple.\n",
    "If the value is not found, it raises a ValueError.\n",
    "Example:\"\"\"\n",
    "\n",
    "my_tuple = ('a', 'b', 'c', 'b')\n",
    "print(my_tuple.index('b'))  # Output: 1"
   ]
  },
  {
   "cell_type": "markdown",
   "id": "6c41b297",
   "metadata": {},
   "source": [
    ">> You can convert a list into a tuple using the `tuple` function, and vice versa using the `list` function"
   ]
  },
  {
   "cell_type": "code",
   "execution_count": null,
   "id": "31b07bc3",
   "metadata": {},
   "outputs": [],
   "source": [
    "tuple(['one', 'two', 'three'])\n",
    "list(('Athos', 'Porthos', 'Aramis'))"
   ]
  },
  {
   "cell_type": "markdown",
   "id": "fcf86ecd",
   "metadata": {},
   "source": [
    "### `Dictionary`\n",
    "\n",
    "A dictionary is an unordered collection of items. Each item stored in a dictionary has a `key and value`. You can use a key to retrieve the corresponding value from the dictionary.  Dictionaries have the type `dict`.\n",
    "\n",
    "Dictionaries are often used to store many pieces of information e.g. details about a person, in a single variable. Dictionaries are created by enclosing key-value pairs within braces or curly brackets `{` and `}`."
   ]
  },
  {
   "cell_type": "code",
   "execution_count": null,
   "id": "33b361dc",
   "metadata": {},
   "outputs": [],
   "source": [
    "person1 = {\n",
    "    'name': 'Lucas Emahus',\n",
    "    'sex': 'Male',\n",
    "    'age': 32,\n",
    "    'married': True\n",
    "}"
   ]
  },
  {
   "cell_type": "code",
   "execution_count": null,
   "id": "01a6999c",
   "metadata": {},
   "outputs": [],
   "source": [
    "students = {\n",
    "    \"student1\": {\n",
    "        \"name\": \"Alice Johnson\",\n",
    "        \"age\": 20,\n",
    "        \"major\": \"Computer Science\",\n",
    "        \"grades\": {\n",
    "            \"math\": 85,\n",
    "            \"science\": 92,\n",
    "            \"english\": 78\n",
    "        },\n",
    "        \"contact\": {\n",
    "            \"email\": \"alice@email.com\",\n",
    "            \"phone\": \"123-456-7890\"\n",
    "        }\n",
    "    },\n",
    "    \"student2\": {\n",
    "        \"name\": \"Bob Smith\",\n",
    "        \"age\": 22,\n",
    "        \"major\": \"Physics\",\n",
    "        \"grades\": {\n",
    "            \"math\": 90,\n",
    "            \"science\": 88,\n",
    "            \"english\": 85\n",
    "        },\n",
    "        \"contact\": {\n",
    "            \"email\": \"bob@email.com\",\n",
    "            \"phone\": \"987-654-3210\"\n",
    "        }\n",
    "    }\n",
    "}\n",
    "\n",
    "# Access nested data\n",
    "print(students[\"student1\"][\"name\"])  # Output: Alice Johnson\n",
    "print(students[\"student1\"][\"grades\"][\"math\"])  # Output: 85\n",
    "print(students[\"student2\"][\"contact\"][\"email\"])  # Output: bob@email.com"
   ]
  },
  {
   "cell_type": "markdown",
   "id": "601e722e",
   "metadata": {},
   "source": [
    "> Dictionaries can also be created using the `dict` function."
   ]
  },
  {
   "cell_type": "code",
   "execution_count": null,
   "id": "44263a9e",
   "metadata": {},
   "outputs": [],
   "source": [
    "person2 = dict(name='Jane Judy', sex='Female', age=28, married=False)"
   ]
  },
  {
   "cell_type": "code",
   "execution_count": null,
   "id": "73410f4e",
   "metadata": {},
   "outputs": [],
   "source": [
    "#Keys can be used to access values using square brackets `[` and `]`.\n",
    "person1['name']"
   ]
  },
  {
   "cell_type": "code",
   "execution_count": null,
   "id": "6fb0a9c1",
   "metadata": {},
   "outputs": [],
   "source": [
    "#You can also use the `get` method to access the value associated with a key.\n",
    "person2.get(\"name\")\n",
    "#The `get` method also accepts a default value, returned if the key is not present in the dictionary.\n",
    "person2.get(\"address\", \"Unknown\")\n",
    "#You can check whether a key is present in a dictionary using the `in` operator.\n",
    "'name' in person1\n",
    "#You can change the value associated with a key using the assignment operator.\n",
    "person2['married'] = True\n",
    "#The assignment operator can also be used to add new key-value pairs to the dictionary.\n",
    "person1['address'] = '1, Penny Lane'"
   ]
  },
  {
   "cell_type": "markdown",
   "id": "53ad2aa7",
   "metadata": {},
   "source": [
    "* To remove a key and the associated value from a dictionary, use the `pop` method.\n",
    "* Dictionaries also provide methods to view the list of keys, values, or key-value pairs inside it."
   ]
  },
  {
   "cell_type": "code",
   "execution_count": null,
   "id": "575e8b4c",
   "metadata": {},
   "outputs": [],
   "source": [
    "person1.pop('address')"
   ]
  },
  {
   "cell_type": "code",
   "execution_count": null,
   "id": "f87e1826",
   "metadata": {},
   "outputs": [],
   "source": [
    "person1.keys()\n",
    "person1.values()\n",
    "print(person1.items())"
   ]
  },
  {
   "cell_type": "markdown",
   "id": "f3f54b85",
   "metadata": {},
   "source": [
    "<center><b>End of Data types</b></center>\n",
    "<center><b>Thank you!</b></center>\n"
   ]
  }
 ],
 "metadata": {
  "kernelspec": {
   "display_name": "Python 3",
   "language": "python",
   "name": "python3"
  },
  "language_info": {
   "codemirror_mode": {
    "name": "ipython",
    "version": 3
   },
   "file_extension": ".py",
   "mimetype": "text/x-python",
   "name": "python",
   "nbconvert_exporter": "python",
   "pygments_lexer": "ipython3",
   "version": "3.11.3"
  }
 },
 "nbformat": 4,
 "nbformat_minor": 5
}
