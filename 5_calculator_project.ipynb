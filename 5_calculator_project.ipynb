{
 "cells": [
  {
   "cell_type": "code",
   "execution_count": null,
   "id": "a10b05e8",
   "metadata": {},
   "outputs": [
    {
     "name": "stdout",
     "output_type": "stream",
     "text": [
      "Standard Calculator\n",
      "please enter atleast 2 numbers\n",
      "1.0 + 3.0 + 4.0 = 8.0\n",
      "Denominator can't be Zero\n",
      "2.0 / 0.0 = 2.0\n",
      "Exiting calculator\n",
      "Developed By: G/yes\n"
     ]
    }
   ],
   "source": [
    "#Function Definition\n",
    "def calculator():\n",
    "    print(\"Standard Calculator\")\n",
    "    try:\n",
    "        while True:\n",
    "            op = input(\"Enter the operators [/,*,-,+,** and exit]\")\n",
    "            if op.lower().strip() == \"exit\":\n",
    "                break\n",
    "            list_op = ['+','-','*','/','**']\n",
    "            if op not in list_op:\n",
    "                print(\"Please enter the correct operator\")\n",
    "                continue\n",
    "\n",
    "            numbers = []\n",
    "            while True:\n",
    "                number = input(\"Please Enter the number or = sign to calculate\")\n",
    "                if number == \"=\":\n",
    "                    if len(numbers)<2:\n",
    "                        print(\"please enter atleast 2 numbers\")\n",
    "                        continue\n",
    "                    break\n",
    "                try:\n",
    "                    num = float(number)\n",
    "                    numbers.append(num)\n",
    "                except ValueError:\n",
    "                    print(\"please enter only number\")\n",
    "                    continue\n",
    "            \"\"\"Performing different arthimetic operations\n",
    "            after performing arthimetic \n",
    "            operations we have to store the result on some variable\"\"\"\n",
    "            if op ==\"+\":\n",
    "                result = numbers[0]\n",
    "                for item in numbers[1:]:\n",
    "                    result = result + item\n",
    "                print(\" + \".join(map(str, numbers)) + f\" = {result}\")\n",
    "            elif op =='*':\n",
    "                result = numbers[0]\n",
    "                for item in numbers[1:]:\n",
    "                    result  = result * item\n",
    "                print(\" * \".join(map(str, numbers)) + f\" = {result}\")\n",
    "            elif op == \"/\":\n",
    "                result = numbers[0]\n",
    "                for item in numbers[1:]:\n",
    "                    try:\n",
    "                        if item ==0:\n",
    "                            raise ZeroDivisionError()\n",
    "                        result = result / item\n",
    "                    except ZeroDivisionError:\n",
    "                        print(\"Denominator can't be Zero\")\n",
    "                        continue\n",
    "                print(\" / \".join(map(str, numbers)) + f\" = {result}\")\n",
    "            elif op == \"-\":\n",
    "                result = numbers[0]\n",
    "                for item in numbers[1:]:\n",
    "                    result = result - item\n",
    "                print(\" - \".join(map(str, numbers)) + f\" = {result}\")\n",
    "            elif op == \"**\":\n",
    "                result = numbers[0]\n",
    "                for item in numbers[1:]:\n",
    "                    result = result ** item\n",
    "                print(\" ** \".join(map(str, numbers)) + f\" = {result}\")\n",
    "    except Exception as e:\n",
    "        print(f\"Operation Failed! {e}\")\n",
    "    print(\"Developed By: G/yes\")\n",
    "\n",
    "\n",
    " # function calling\n",
    "calculator()     "
   ]
  },
  {
   "cell_type": "code",
   "execution_count": null,
   "id": "380a65be",
   "metadata": {},
   "outputs": [],
   "source": []
  }
 ],
 "metadata": {
  "kernelspec": {
   "display_name": "Python 3",
   "language": "python",
   "name": "python3"
  },
  "language_info": {
   "codemirror_mode": {
    "name": "ipython",
    "version": 3
   },
   "file_extension": ".py",
   "mimetype": "text/x-python",
   "name": "python",
   "nbconvert_exporter": "python",
   "pygments_lexer": "ipython3",
   "version": "3.11.3"
  }
 },
 "nbformat": 4,
 "nbformat_minor": 5
}
